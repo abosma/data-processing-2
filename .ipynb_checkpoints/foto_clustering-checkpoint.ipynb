{
 "cells": [
  {
   "cell_type": "code",
   "execution_count": null,
   "metadata": {
    "collapsed": true
   },
   "outputs": [],
   "source": [
    "# Import libraries\n",
    "import matplotlib.pyplot as plt\n",
    "import numpy as np\n",
    "from sklearn.cluster import KMeans"
   ]
  },
  {
   "cell_type": "code",
   "execution_count": null,
   "metadata": {},
   "outputs": [],
   "source": [
    "# vul de punten RGB-waardes\n",
    "X = [[247,247,247],\n",
    "     [255,247,255],\n",
    "     [234,234,234],\n",
    "     [221,221,221],\n",
    "     [247,234,247],\n",
    "     [234,221,234],\n",
    "     [255,255,255],\n",
    "     [234,234,247],\n",
    "     [221,298,221],\n",
    "     [234,221,221],\n",
    "     [78,78,65],\n",
    "     [65,65,52],\n",
    "     [221,208,208],\n",
    "     [78,78,52],\n",
    "     [234,182,156],\n",
    "     [247,247,255],\n",
    "     [221,182,143],\n",
    "     [104,78,52],\n",
    "     [78,52,39],\n",
    "     [104,78,65]]"
   ]
  },
  {
   "cell_type": "code",
   "execution_count": null,
   "metadata": {
    "collapsed": true
   },
   "outputs": [],
   "source": [
    "# doe de clustering"
   ]
  },
  {
   "cell_type": "code",
   "execution_count": null,
   "metadata": {},
   "outputs": [],
   "source": [
    "# druk de middelpunten af"
   ]
  },
  {
   "cell_type": "code",
   "execution_count": null,
   "metadata": {
    "collapsed": true
   },
   "outputs": [],
   "source": [
    "# welke kleur hoort bij welk middelpunt?"
   ]
  },
  {
   "cell_type": "code",
   "execution_count": null,
   "metadata": {},
   "outputs": [],
   "source": [
    "# dit zijn steekproeven van resp. gezicht, trui en achtergrond\n",
    "colorsnap = np.array([[87,87,76], \n",
    "                      [244,235,237],\n",
    "                      [230, 175, 150 ]])"
   ]
  },
  {
   "cell_type": "code",
   "execution_count": null,
   "metadata": {},
   "outputs": [],
   "source": [
    "# controleer in welk cluster bovenstaande kleuren van resp. gezicht, trui en achtergrond vallen"
   ]
  }
 ],
 "metadata": {
  "kernelspec": {
   "display_name": "Python 3",
   "language": "python",
   "name": "python3"
  },
  "language_info": {
   "codemirror_mode": {
    "name": "ipython",
    "version": 3
   },
   "file_extension": ".py",
   "mimetype": "text/x-python",
   "name": "python",
   "nbconvert_exporter": "python",
   "pygments_lexer": "ipython3",
   "version": "3.6.4"
  }
 },
 "nbformat": 4,
 "nbformat_minor": 2
}
