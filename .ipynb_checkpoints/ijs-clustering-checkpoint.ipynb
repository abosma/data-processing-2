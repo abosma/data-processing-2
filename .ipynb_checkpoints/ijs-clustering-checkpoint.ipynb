{
 "cells": [
  {
   "cell_type": "markdown",
   "metadata": {},
   "source": [
    "## Clustering IJS voorbeeld\n"
   ]
  },
  {
   "cell_type": "code",
   "execution_count": 1,
   "metadata": {},
   "outputs": [
    {
     "name": "stdout",
     "output_type": "stream",
     "text": [
      "[[ 10.2          7.2       ]\n",
      " [ 17.66666667  17.        ]]\n",
      "[1 0]\n"
     ]
    }
   ],
   "source": [
    "# importeer methode\n",
    "from sklearn.cluster import KMeans\n",
    "\n",
    "# vul de punten (Chocolade vs Vanille )\n",
    "X = [[12, 6],\n",
    "     [15,16],\n",
    "     [18,17],\n",
    "     [10, 8],\n",
    "     [ 8, 7],\n",
    "     [ 9, 6],\n",
    "     [12, 9],\n",
    "     [20,18]]\n",
    "\n",
    "# doe de clustering\n",
    "iceMeans = KMeans(n_clusters=2, random_state=0).fit(X)\n",
    "\n",
    "# druk de middelpunten af\n",
    "print(iceMeans.cluster_centers_)\n",
    "\n",
    "# deel twee nieuwe winkels in:\n",
    "print(iceMeans.predict([[11, 15], [20, 4]]))"
   ]
  },
  {
   "cell_type": "code",
   "execution_count": 2,
   "metadata": {},
   "outputs": [
    {
     "name": "stdout",
     "output_type": "stream",
     "text": [
      "[[ 10.2          7.2       ]\n",
      " [ 17.66666667  17.        ]]\n"
     ]
    }
   ],
   "source": [
    "print(iceMeans.cluster_centers_)"
   ]
  },
  {
   "cell_type": "code",
   "execution_count": null,
   "metadata": {},
   "outputs": [],
   "source": []
  }
 ],
 "metadata": {
  "anaconda-cloud": {},
  "kernelspec": {
   "display_name": "Python 3",
   "language": "python",
   "name": "python3"
  },
  "language_info": {
   "codemirror_mode": {
    "name": "ipython",
    "version": 3
   },
   "file_extension": ".py",
   "mimetype": "text/x-python",
   "name": "python",
   "nbconvert_exporter": "python",
   "pygments_lexer": "ipython3",
   "version": "3.6.4"
  }
 },
 "nbformat": 4,
 "nbformat_minor": 1
}
