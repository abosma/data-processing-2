{
 "cells": [
  {
   "cell_type": "markdown",
   "metadata": {
    "collapsed": true
   },
   "source": [
    "# Correlatie tussen IMDB Score, Facebook likes en Revenue van een film\n",
    "\n",
    "Door: Atilla Bosma, Ronald de Rooij en Robin Tempert\n",
    "\n",
    "Datasets:\n",
    "- 2 datasets met IMDB Scores en Revenue\n",
    "\n",
    "Wij hebben 1 dataset met de facebook likes, en 1 dataset die deze niet heeft. De 2de dataset zonder facebook likes wordt gebruikt om missende data in het eerste dataset aan te vullen met IMDB scores en gross revenue.\n",
    "\n",
    "De hoofdvraag die we willen gaan beantwoorden is:\n",
    "\n",
    "Hoe beïnvloedt het aantal facebook likes van schrijvers en acteurs de IMDB score en opbrengst van uitgebrachte films?\n",
    "\n",
    "Dit gaan we onderzoeken door de volgende deelvragen te beantwoorden:\n",
    "\n",
    "\n",
    "1. Kunnen wij met supervised machine learning voorspellen wat de IMDB score van een film is gebaseerd op de facebook likes?\n",
    "2. Kunnen wij met unsupervised machine learning voorspellen hoeveel een film verdient gebaseerd op zijn IMDB Score?\n",
    "3.  Is het mogelijk om onze dataset te verbinden met een groter IMDB dataset en deze gemergede dataset te gebruiken?\n",
    "4. Is er een correlatie tussen facebook likes en IMDB score, en IMDB score en inkomst?\n",
    "\n",
    "Als eerst willen wij kijken of wij complete data hebben en of wij deze data kunnen opschonen en mergen met het 2de dataset, dit kunt u in de volgende stappen zien:"
   ]
  },
  {
   "cell_type": "code",
   "execution_count": 2,
   "metadata": {},
   "outputs": [
    {
     "data": {
      "text/html": [
       "\n",
       "    <div class=\"bk-root\">\n",
       "        <a href=\"https://bokeh.pydata.org\" target=\"_blank\" class=\"bk-logo bk-logo-small bk-logo-notebook\"></a>\n",
       "        <span id=\"312c55d8-54b6-4851-b229-68df54d818a8\">Loading BokehJS ...</span>\n",
       "    </div>"
      ]
     },
     "metadata": {},
     "output_type": "display_data"
    },
    {
     "data": {
      "application/javascript": [
       "\n",
       "(function(root) {\n",
       "  function now() {\n",
       "    return new Date();\n",
       "  }\n",
       "\n",
       "  var force = true;\n",
       "\n",
       "  if (typeof (root._bokeh_onload_callbacks) === \"undefined\" || force === true) {\n",
       "    root._bokeh_onload_callbacks = [];\n",
       "    root._bokeh_is_loading = undefined;\n",
       "  }\n",
       "\n",
       "  var JS_MIME_TYPE = 'application/javascript';\n",
       "  var HTML_MIME_TYPE = 'text/html';\n",
       "  var EXEC_MIME_TYPE = 'application/vnd.bokehjs_exec.v0+json';\n",
       "  var CLASS_NAME = 'output_bokeh rendered_html';\n",
       "\n",
       "  /**\n",
       "   * Render data to the DOM node\n",
       "   */\n",
       "  function render(props, node) {\n",
       "    var script = document.createElement(\"script\");\n",
       "    node.appendChild(script);\n",
       "  }\n",
       "\n",
       "  /**\n",
       "   * Handle when an output is cleared or removed\n",
       "   */\n",
       "  function handleClearOutput(event, handle) {\n",
       "    var cell = handle.cell;\n",
       "\n",
       "    var id = cell.output_area._bokeh_element_id;\n",
       "    var server_id = cell.output_area._bokeh_server_id;\n",
       "    // Clean up Bokeh references\n",
       "    if (id !== undefined) {\n",
       "      Bokeh.index[id].model.document.clear();\n",
       "      delete Bokeh.index[id];\n",
       "    }\n",
       "\n",
       "    if (server_id !== undefined) {\n",
       "      // Clean up Bokeh references\n",
       "      var cmd = \"from bokeh.io.state import curstate; print(curstate().uuid_to_server['\" + server_id + \"'].get_sessions()[0].document.roots[0]._id)\";\n",
       "      cell.notebook.kernel.execute(cmd, {\n",
       "        iopub: {\n",
       "          output: function(msg) {\n",
       "            var element_id = msg.content.text.trim();\n",
       "            Bokeh.index[element_id].model.document.clear();\n",
       "            delete Bokeh.index[element_id];\n",
       "          }\n",
       "        }\n",
       "      });\n",
       "      // Destroy server and session\n",
       "      var cmd = \"import bokeh.io.notebook as ion; ion.destroy_server('\" + server_id + \"')\";\n",
       "      cell.notebook.kernel.execute(cmd);\n",
       "    }\n",
       "  }\n",
       "\n",
       "  /**\n",
       "   * Handle when a new output is added\n",
       "   */\n",
       "  function handleAddOutput(event, handle) {\n",
       "    var output_area = handle.output_area;\n",
       "    var output = handle.output;\n",
       "\n",
       "    // limit handleAddOutput to display_data with EXEC_MIME_TYPE content only\n",
       "    if ((output.output_type != \"display_data\") || (!output.data.hasOwnProperty(EXEC_MIME_TYPE))) {\n",
       "      return\n",
       "    }\n",
       "\n",
       "    var toinsert = output_area.element.find(\".\" + CLASS_NAME.split(' ')[0]);\n",
       "\n",
       "    if (output.metadata[EXEC_MIME_TYPE][\"id\"] !== undefined) {\n",
       "      toinsert[0].firstChild.textContent = output.data[JS_MIME_TYPE];\n",
       "      // store reference to embed id on output_area\n",
       "      output_area._bokeh_element_id = output.metadata[EXEC_MIME_TYPE][\"id\"];\n",
       "    }\n",
       "    if (output.metadata[EXEC_MIME_TYPE][\"server_id\"] !== undefined) {\n",
       "      var bk_div = document.createElement(\"div\");\n",
       "      bk_div.innerHTML = output.data[HTML_MIME_TYPE];\n",
       "      var script_attrs = bk_div.children[0].attributes;\n",
       "      for (var i = 0; i < script_attrs.length; i++) {\n",
       "        toinsert[0].firstChild.setAttribute(script_attrs[i].name, script_attrs[i].value);\n",
       "      }\n",
       "      // store reference to server id on output_area\n",
       "      output_area._bokeh_server_id = output.metadata[EXEC_MIME_TYPE][\"server_id\"];\n",
       "    }\n",
       "  }\n",
       "\n",
       "  function register_renderer(events, OutputArea) {\n",
       "\n",
       "    function append_mime(data, metadata, element) {\n",
       "      // create a DOM node to render to\n",
       "      var toinsert = this.create_output_subarea(\n",
       "        metadata,\n",
       "        CLASS_NAME,\n",
       "        EXEC_MIME_TYPE\n",
       "      );\n",
       "      this.keyboard_manager.register_events(toinsert);\n",
       "      // Render to node\n",
       "      var props = {data: data, metadata: metadata[EXEC_MIME_TYPE]};\n",
       "      render(props, toinsert[0]);\n",
       "      element.append(toinsert);\n",
       "      return toinsert\n",
       "    }\n",
       "\n",
       "    /* Handle when an output is cleared or removed */\n",
       "    events.on('clear_output.CodeCell', handleClearOutput);\n",
       "    events.on('delete.Cell', handleClearOutput);\n",
       "\n",
       "    /* Handle when a new output is added */\n",
       "    events.on('output_added.OutputArea', handleAddOutput);\n",
       "\n",
       "    /**\n",
       "     * Register the mime type and append_mime function with output_area\n",
       "     */\n",
       "    OutputArea.prototype.register_mime_type(EXEC_MIME_TYPE, append_mime, {\n",
       "      /* Is output safe? */\n",
       "      safe: true,\n",
       "      /* Index of renderer in `output_area.display_order` */\n",
       "      index: 0\n",
       "    });\n",
       "  }\n",
       "\n",
       "  // register the mime type if in Jupyter Notebook environment and previously unregistered\n",
       "  if (root.Jupyter !== undefined) {\n",
       "    var events = require('base/js/events');\n",
       "    var OutputArea = require('notebook/js/outputarea').OutputArea;\n",
       "\n",
       "    if (OutputArea.prototype.mime_types().indexOf(EXEC_MIME_TYPE) == -1) {\n",
       "      register_renderer(events, OutputArea);\n",
       "    }\n",
       "  }\n",
       "\n",
       "  \n",
       "  if (typeof (root._bokeh_timeout) === \"undefined\" || force === true) {\n",
       "    root._bokeh_timeout = Date.now() + 5000;\n",
       "    root._bokeh_failed_load = false;\n",
       "  }\n",
       "\n",
       "  var NB_LOAD_WARNING = {'data': {'text/html':\n",
       "     \"<div style='background-color: #fdd'>\\n\"+\n",
       "     \"<p>\\n\"+\n",
       "     \"BokehJS does not appear to have successfully loaded. If loading BokehJS from CDN, this \\n\"+\n",
       "     \"may be due to a slow or bad network connection. Possible fixes:\\n\"+\n",
       "     \"</p>\\n\"+\n",
       "     \"<ul>\\n\"+\n",
       "     \"<li>re-rerun `output_notebook()` to attempt to load from CDN again, or</li>\\n\"+\n",
       "     \"<li>use INLINE resources instead, as so:</li>\\n\"+\n",
       "     \"</ul>\\n\"+\n",
       "     \"<code>\\n\"+\n",
       "     \"from bokeh.resources import INLINE\\n\"+\n",
       "     \"output_notebook(resources=INLINE)\\n\"+\n",
       "     \"</code>\\n\"+\n",
       "     \"</div>\"}};\n",
       "\n",
       "  function display_loaded() {\n",
       "    var el = document.getElementById(\"312c55d8-54b6-4851-b229-68df54d818a8\");\n",
       "    if (el != null) {\n",
       "      el.textContent = \"BokehJS is loading...\";\n",
       "    }\n",
       "    if (root.Bokeh !== undefined) {\n",
       "      if (el != null) {\n",
       "        el.textContent = \"BokehJS \" + root.Bokeh.version + \" successfully loaded.\";\n",
       "      }\n",
       "    } else if (Date.now() < root._bokeh_timeout) {\n",
       "      setTimeout(display_loaded, 100)\n",
       "    }\n",
       "  }\n",
       "\n",
       "\n",
       "  function run_callbacks() {\n",
       "    try {\n",
       "      root._bokeh_onload_callbacks.forEach(function(callback) { callback() });\n",
       "    }\n",
       "    finally {\n",
       "      delete root._bokeh_onload_callbacks\n",
       "    }\n",
       "    console.info(\"Bokeh: all callbacks have finished\");\n",
       "  }\n",
       "\n",
       "  function load_libs(js_urls, callback) {\n",
       "    root._bokeh_onload_callbacks.push(callback);\n",
       "    if (root._bokeh_is_loading > 0) {\n",
       "      console.log(\"Bokeh: BokehJS is being loaded, scheduling callback at\", now());\n",
       "      return null;\n",
       "    }\n",
       "    if (js_urls == null || js_urls.length === 0) {\n",
       "      run_callbacks();\n",
       "      return null;\n",
       "    }\n",
       "    console.log(\"Bokeh: BokehJS not loaded, scheduling load and callback at\", now());\n",
       "    root._bokeh_is_loading = js_urls.length;\n",
       "    for (var i = 0; i < js_urls.length; i++) {\n",
       "      var url = js_urls[i];\n",
       "      var s = document.createElement('script');\n",
       "      s.src = url;\n",
       "      s.async = false;\n",
       "      s.onreadystatechange = s.onload = function() {\n",
       "        root._bokeh_is_loading--;\n",
       "        if (root._bokeh_is_loading === 0) {\n",
       "          console.log(\"Bokeh: all BokehJS libraries loaded\");\n",
       "          run_callbacks()\n",
       "        }\n",
       "      };\n",
       "      s.onerror = function() {\n",
       "        console.warn(\"failed to load library \" + url);\n",
       "      };\n",
       "      console.log(\"Bokeh: injecting script tag for BokehJS library: \", url);\n",
       "      document.getElementsByTagName(\"head\")[0].appendChild(s);\n",
       "    }\n",
       "  };var element = document.getElementById(\"312c55d8-54b6-4851-b229-68df54d818a8\");\n",
       "  if (element == null) {\n",
       "    console.log(\"Bokeh: ERROR: autoload.js configured with elementid '312c55d8-54b6-4851-b229-68df54d818a8' but no matching script tag was found. \")\n",
       "    return false;\n",
       "  }\n",
       "\n",
       "  var js_urls = [\"https://cdn.pydata.org/bokeh/release/bokeh-0.12.13.min.js\", \"https://cdn.pydata.org/bokeh/release/bokeh-widgets-0.12.13.min.js\", \"https://cdn.pydata.org/bokeh/release/bokeh-tables-0.12.13.min.js\", \"https://cdn.pydata.org/bokeh/release/bokeh-gl-0.12.13.min.js\"];\n",
       "\n",
       "  var inline_js = [\n",
       "    function(Bokeh) {\n",
       "      Bokeh.set_log_level(\"info\");\n",
       "    },\n",
       "    \n",
       "    function(Bokeh) {\n",
       "      \n",
       "    },\n",
       "    function(Bokeh) {\n",
       "      console.log(\"Bokeh: injecting CSS: https://cdn.pydata.org/bokeh/release/bokeh-0.12.13.min.css\");\n",
       "      Bokeh.embed.inject_css(\"https://cdn.pydata.org/bokeh/release/bokeh-0.12.13.min.css\");\n",
       "      console.log(\"Bokeh: injecting CSS: https://cdn.pydata.org/bokeh/release/bokeh-widgets-0.12.13.min.css\");\n",
       "      Bokeh.embed.inject_css(\"https://cdn.pydata.org/bokeh/release/bokeh-widgets-0.12.13.min.css\");\n",
       "      console.log(\"Bokeh: injecting CSS: https://cdn.pydata.org/bokeh/release/bokeh-tables-0.12.13.min.css\");\n",
       "      Bokeh.embed.inject_css(\"https://cdn.pydata.org/bokeh/release/bokeh-tables-0.12.13.min.css\");\n",
       "    }\n",
       "  ];\n",
       "\n",
       "  function run_inline_js() {\n",
       "    \n",
       "    if ((root.Bokeh !== undefined) || (force === true)) {\n",
       "      for (var i = 0; i < inline_js.length; i++) {\n",
       "        inline_js[i].call(root, root.Bokeh);\n",
       "      }if (force === true) {\n",
       "        display_loaded();\n",
       "      }} else if (Date.now() < root._bokeh_timeout) {\n",
       "      setTimeout(run_inline_js, 100);\n",
       "    } else if (!root._bokeh_failed_load) {\n",
       "      console.log(\"Bokeh: BokehJS failed to load within specified timeout.\");\n",
       "      root._bokeh_failed_load = true;\n",
       "    } else if (force !== true) {\n",
       "      var cell = $(document.getElementById(\"312c55d8-54b6-4851-b229-68df54d818a8\")).parents('.cell').data().cell;\n",
       "      cell.output_area.append_execute_result(NB_LOAD_WARNING)\n",
       "    }\n",
       "\n",
       "  }\n",
       "\n",
       "  if (root._bokeh_is_loading === 0) {\n",
       "    console.log(\"Bokeh: BokehJS loaded, going straight to plotting\");\n",
       "    run_inline_js();\n",
       "  } else {\n",
       "    load_libs(js_urls, function() {\n",
       "      console.log(\"Bokeh: BokehJS plotting callback run at\", now());\n",
       "      run_inline_js();\n",
       "    });\n",
       "  }\n",
       "}(window));"
      ],
      "application/vnd.bokehjs_load.v0+json": "\n(function(root) {\n  function now() {\n    return new Date();\n  }\n\n  var force = true;\n\n  if (typeof (root._bokeh_onload_callbacks) === \"undefined\" || force === true) {\n    root._bokeh_onload_callbacks = [];\n    root._bokeh_is_loading = undefined;\n  }\n\n  \n\n  \n  if (typeof (root._bokeh_timeout) === \"undefined\" || force === true) {\n    root._bokeh_timeout = Date.now() + 5000;\n    root._bokeh_failed_load = false;\n  }\n\n  var NB_LOAD_WARNING = {'data': {'text/html':\n     \"<div style='background-color: #fdd'>\\n\"+\n     \"<p>\\n\"+\n     \"BokehJS does not appear to have successfully loaded. If loading BokehJS from CDN, this \\n\"+\n     \"may be due to a slow or bad network connection. Possible fixes:\\n\"+\n     \"</p>\\n\"+\n     \"<ul>\\n\"+\n     \"<li>re-rerun `output_notebook()` to attempt to load from CDN again, or</li>\\n\"+\n     \"<li>use INLINE resources instead, as so:</li>\\n\"+\n     \"</ul>\\n\"+\n     \"<code>\\n\"+\n     \"from bokeh.resources import INLINE\\n\"+\n     \"output_notebook(resources=INLINE)\\n\"+\n     \"</code>\\n\"+\n     \"</div>\"}};\n\n  function display_loaded() {\n    var el = document.getElementById(\"312c55d8-54b6-4851-b229-68df54d818a8\");\n    if (el != null) {\n      el.textContent = \"BokehJS is loading...\";\n    }\n    if (root.Bokeh !== undefined) {\n      if (el != null) {\n        el.textContent = \"BokehJS \" + root.Bokeh.version + \" successfully loaded.\";\n      }\n    } else if (Date.now() < root._bokeh_timeout) {\n      setTimeout(display_loaded, 100)\n    }\n  }\n\n\n  function run_callbacks() {\n    try {\n      root._bokeh_onload_callbacks.forEach(function(callback) { callback() });\n    }\n    finally {\n      delete root._bokeh_onload_callbacks\n    }\n    console.info(\"Bokeh: all callbacks have finished\");\n  }\n\n  function load_libs(js_urls, callback) {\n    root._bokeh_onload_callbacks.push(callback);\n    if (root._bokeh_is_loading > 0) {\n      console.log(\"Bokeh: BokehJS is being loaded, scheduling callback at\", now());\n      return null;\n    }\n    if (js_urls == null || js_urls.length === 0) {\n      run_callbacks();\n      return null;\n    }\n    console.log(\"Bokeh: BokehJS not loaded, scheduling load and callback at\", now());\n    root._bokeh_is_loading = js_urls.length;\n    for (var i = 0; i < js_urls.length; i++) {\n      var url = js_urls[i];\n      var s = document.createElement('script');\n      s.src = url;\n      s.async = false;\n      s.onreadystatechange = s.onload = function() {\n        root._bokeh_is_loading--;\n        if (root._bokeh_is_loading === 0) {\n          console.log(\"Bokeh: all BokehJS libraries loaded\");\n          run_callbacks()\n        }\n      };\n      s.onerror = function() {\n        console.warn(\"failed to load library \" + url);\n      };\n      console.log(\"Bokeh: injecting script tag for BokehJS library: \", url);\n      document.getElementsByTagName(\"head\")[0].appendChild(s);\n    }\n  };var element = document.getElementById(\"312c55d8-54b6-4851-b229-68df54d818a8\");\n  if (element == null) {\n    console.log(\"Bokeh: ERROR: autoload.js configured with elementid '312c55d8-54b6-4851-b229-68df54d818a8' but no matching script tag was found. \")\n    return false;\n  }\n\n  var js_urls = [\"https://cdn.pydata.org/bokeh/release/bokeh-0.12.13.min.js\", \"https://cdn.pydata.org/bokeh/release/bokeh-widgets-0.12.13.min.js\", \"https://cdn.pydata.org/bokeh/release/bokeh-tables-0.12.13.min.js\", \"https://cdn.pydata.org/bokeh/release/bokeh-gl-0.12.13.min.js\"];\n\n  var inline_js = [\n    function(Bokeh) {\n      Bokeh.set_log_level(\"info\");\n    },\n    \n    function(Bokeh) {\n      \n    },\n    function(Bokeh) {\n      console.log(\"Bokeh: injecting CSS: https://cdn.pydata.org/bokeh/release/bokeh-0.12.13.min.css\");\n      Bokeh.embed.inject_css(\"https://cdn.pydata.org/bokeh/release/bokeh-0.12.13.min.css\");\n      console.log(\"Bokeh: injecting CSS: https://cdn.pydata.org/bokeh/release/bokeh-widgets-0.12.13.min.css\");\n      Bokeh.embed.inject_css(\"https://cdn.pydata.org/bokeh/release/bokeh-widgets-0.12.13.min.css\");\n      console.log(\"Bokeh: injecting CSS: https://cdn.pydata.org/bokeh/release/bokeh-tables-0.12.13.min.css\");\n      Bokeh.embed.inject_css(\"https://cdn.pydata.org/bokeh/release/bokeh-tables-0.12.13.min.css\");\n    }\n  ];\n\n  function run_inline_js() {\n    \n    if ((root.Bokeh !== undefined) || (force === true)) {\n      for (var i = 0; i < inline_js.length; i++) {\n        inline_js[i].call(root, root.Bokeh);\n      }if (force === true) {\n        display_loaded();\n      }} else if (Date.now() < root._bokeh_timeout) {\n      setTimeout(run_inline_js, 100);\n    } else if (!root._bokeh_failed_load) {\n      console.log(\"Bokeh: BokehJS failed to load within specified timeout.\");\n      root._bokeh_failed_load = true;\n    } else if (force !== true) {\n      var cell = $(document.getElementById(\"312c55d8-54b6-4851-b229-68df54d818a8\")).parents('.cell').data().cell;\n      cell.output_area.append_execute_result(NB_LOAD_WARNING)\n    }\n\n  }\n\n  if (root._bokeh_is_loading === 0) {\n    console.log(\"Bokeh: BokehJS loaded, going straight to plotting\");\n    run_inline_js();\n  } else {\n    load_libs(js_urls, function() {\n      console.log(\"Bokeh: BokehJS plotting callback run at\", now());\n      run_inline_js();\n    });\n  }\n}(window));"
     },
     "metadata": {},
     "output_type": "display_data"
    }
   ],
   "source": [
    "# Bibliotheken\n",
    "from datetime import datetime\n",
    "import pandas as pd\n",
    "import numpy as np\n",
    "import scipy as sp\n",
    "import bokeh\n",
    "import matplotlib.pyplot as plt\n",
    "\n",
    "from sklearn.model_selection import train_test_split\n",
    "from sklearn.ensemble import GradientBoostingClassifier\n",
    "from sklearn.neighbors import KNeighborsClassifier\n",
    "from sklearn.naive_bayes import GaussianNB\n",
    "from sklearn.metrics import accuracy_score\n",
    "from sklearn.metrics import confusion_matrix\n",
    "from sklearn import linear_model\n",
    "from sklearn.model_selection import cross_val_score\n",
    "from pandas.plotting import scatter_matrix\n",
    "import seaborn as sns\n",
    "\n",
    "from bokeh.plotting import *\n",
    "from bokeh.layouts import row, widgetbox\n",
    "from bokeh.models import CustomJS, Slider\n",
    "\n",
    "bokeh.plotting.output_notebook()\n",
    "\n",
    "%matplotlib inline"
   ]
  },
  {
   "cell_type": "code",
   "execution_count": 3,
   "metadata": {},
   "outputs": [
    {
     "data": {
      "text/html": [
       "<div>\n",
       "<style scoped>\n",
       "    .dataframe tbody tr th:only-of-type {\n",
       "        vertical-align: middle;\n",
       "    }\n",
       "\n",
       "    .dataframe tbody tr th {\n",
       "        vertical-align: top;\n",
       "    }\n",
       "\n",
       "    .dataframe thead th {\n",
       "        text-align: right;\n",
       "    }\n",
       "</style>\n",
       "<table border=\"1\" class=\"dataframe\">\n",
       "  <thead>\n",
       "    <tr style=\"text-align: right;\">\n",
       "      <th></th>\n",
       "      <th>color</th>\n",
       "      <th>director_name</th>\n",
       "      <th>num_critic_for_reviews</th>\n",
       "      <th>duration</th>\n",
       "      <th>director_facebook_likes</th>\n",
       "      <th>actor_3_facebook_likes</th>\n",
       "      <th>actor_2_name</th>\n",
       "      <th>actor_1_facebook_likes</th>\n",
       "      <th>gross</th>\n",
       "      <th>genres</th>\n",
       "      <th>...</th>\n",
       "      <th>language</th>\n",
       "      <th>country</th>\n",
       "      <th>content_rating</th>\n",
       "      <th>budget</th>\n",
       "      <th>title_year</th>\n",
       "      <th>actor_2_facebook_likes</th>\n",
       "      <th>imdb_score</th>\n",
       "      <th>aspect_ratio</th>\n",
       "      <th>movie_facebook_likes</th>\n",
       "      <th>total_likes</th>\n",
       "    </tr>\n",
       "  </thead>\n",
       "  <tbody>\n",
       "    <tr>\n",
       "      <th>0</th>\n",
       "      <td>Color</td>\n",
       "      <td>James Cameron</td>\n",
       "      <td>723.0</td>\n",
       "      <td>178.0</td>\n",
       "      <td>0.0</td>\n",
       "      <td>855.0</td>\n",
       "      <td>Joel David Moore</td>\n",
       "      <td>1000.0</td>\n",
       "      <td>760505847.0</td>\n",
       "      <td>Action|Adventure|Fantasy|Sci-Fi</td>\n",
       "      <td>...</td>\n",
       "      <td>English</td>\n",
       "      <td>USA</td>\n",
       "      <td>PG-13</td>\n",
       "      <td>237000000.0</td>\n",
       "      <td>2009.0</td>\n",
       "      <td>936.0</td>\n",
       "      <td>7.9</td>\n",
       "      <td>1.78</td>\n",
       "      <td>33000</td>\n",
       "      <td>35791.0</td>\n",
       "    </tr>\n",
       "    <tr>\n",
       "      <th>1</th>\n",
       "      <td>Color</td>\n",
       "      <td>Gore Verbinski</td>\n",
       "      <td>302.0</td>\n",
       "      <td>169.0</td>\n",
       "      <td>563.0</td>\n",
       "      <td>1000.0</td>\n",
       "      <td>Orlando Bloom</td>\n",
       "      <td>40000.0</td>\n",
       "      <td>309404152.0</td>\n",
       "      <td>Action|Adventure|Fantasy</td>\n",
       "      <td>...</td>\n",
       "      <td>English</td>\n",
       "      <td>USA</td>\n",
       "      <td>PG-13</td>\n",
       "      <td>300000000.0</td>\n",
       "      <td>2007.0</td>\n",
       "      <td>5000.0</td>\n",
       "      <td>7.1</td>\n",
       "      <td>2.35</td>\n",
       "      <td>0</td>\n",
       "      <td>46000.0</td>\n",
       "    </tr>\n",
       "    <tr>\n",
       "      <th>2</th>\n",
       "      <td>Color</td>\n",
       "      <td>Sam Mendes</td>\n",
       "      <td>602.0</td>\n",
       "      <td>148.0</td>\n",
       "      <td>0.0</td>\n",
       "      <td>161.0</td>\n",
       "      <td>Rory Kinnear</td>\n",
       "      <td>11000.0</td>\n",
       "      <td>200074175.0</td>\n",
       "      <td>Action|Adventure|Thriller</td>\n",
       "      <td>...</td>\n",
       "      <td>English</td>\n",
       "      <td>UK</td>\n",
       "      <td>PG-13</td>\n",
       "      <td>245000000.0</td>\n",
       "      <td>2015.0</td>\n",
       "      <td>393.0</td>\n",
       "      <td>6.8</td>\n",
       "      <td>2.35</td>\n",
       "      <td>85000</td>\n",
       "      <td>96554.0</td>\n",
       "    </tr>\n",
       "    <tr>\n",
       "      <th>3</th>\n",
       "      <td>Color</td>\n",
       "      <td>Christopher Nolan</td>\n",
       "      <td>813.0</td>\n",
       "      <td>164.0</td>\n",
       "      <td>22000.0</td>\n",
       "      <td>23000.0</td>\n",
       "      <td>Christian Bale</td>\n",
       "      <td>27000.0</td>\n",
       "      <td>448130642.0</td>\n",
       "      <td>Action|Thriller</td>\n",
       "      <td>...</td>\n",
       "      <td>English</td>\n",
       "      <td>USA</td>\n",
       "      <td>PG-13</td>\n",
       "      <td>250000000.0</td>\n",
       "      <td>2012.0</td>\n",
       "      <td>23000.0</td>\n",
       "      <td>8.5</td>\n",
       "      <td>2.35</td>\n",
       "      <td>164000</td>\n",
       "      <td>237000.0</td>\n",
       "    </tr>\n",
       "    <tr>\n",
       "      <th>4</th>\n",
       "      <td>NaN</td>\n",
       "      <td>Doug Walker</td>\n",
       "      <td>NaN</td>\n",
       "      <td>NaN</td>\n",
       "      <td>131.0</td>\n",
       "      <td>NaN</td>\n",
       "      <td>Rob Walker</td>\n",
       "      <td>131.0</td>\n",
       "      <td>NaN</td>\n",
       "      <td>Documentary</td>\n",
       "      <td>...</td>\n",
       "      <td>NaN</td>\n",
       "      <td>NaN</td>\n",
       "      <td>NaN</td>\n",
       "      <td>NaN</td>\n",
       "      <td>NaN</td>\n",
       "      <td>12.0</td>\n",
       "      <td>7.1</td>\n",
       "      <td>NaN</td>\n",
       "      <td>0</td>\n",
       "      <td>NaN</td>\n",
       "    </tr>\n",
       "  </tbody>\n",
       "</table>\n",
       "<p>5 rows × 29 columns</p>\n",
       "</div>"
      ],
      "text/plain": [
       "   color      director_name  num_critic_for_reviews  duration  \\\n",
       "0  Color      James Cameron                   723.0     178.0   \n",
       "1  Color     Gore Verbinski                   302.0     169.0   \n",
       "2  Color         Sam Mendes                   602.0     148.0   \n",
       "3  Color  Christopher Nolan                   813.0     164.0   \n",
       "4    NaN        Doug Walker                     NaN       NaN   \n",
       "\n",
       "   director_facebook_likes  actor_3_facebook_likes      actor_2_name  \\\n",
       "0                      0.0                   855.0  Joel David Moore   \n",
       "1                    563.0                  1000.0     Orlando Bloom   \n",
       "2                      0.0                   161.0      Rory Kinnear   \n",
       "3                  22000.0                 23000.0    Christian Bale   \n",
       "4                    131.0                     NaN        Rob Walker   \n",
       "\n",
       "   actor_1_facebook_likes        gross                           genres  \\\n",
       "0                  1000.0  760505847.0  Action|Adventure|Fantasy|Sci-Fi   \n",
       "1                 40000.0  309404152.0         Action|Adventure|Fantasy   \n",
       "2                 11000.0  200074175.0        Action|Adventure|Thriller   \n",
       "3                 27000.0  448130642.0                  Action|Thriller   \n",
       "4                   131.0          NaN                      Documentary   \n",
       "\n",
       "      ...     language country  content_rating       budget title_year  \\\n",
       "0     ...      English     USA           PG-13  237000000.0     2009.0   \n",
       "1     ...      English     USA           PG-13  300000000.0     2007.0   \n",
       "2     ...      English      UK           PG-13  245000000.0     2015.0   \n",
       "3     ...      English     USA           PG-13  250000000.0     2012.0   \n",
       "4     ...          NaN     NaN             NaN          NaN        NaN   \n",
       "\n",
       "   actor_2_facebook_likes imdb_score aspect_ratio  movie_facebook_likes  \\\n",
       "0                   936.0        7.9         1.78                 33000   \n",
       "1                  5000.0        7.1         2.35                     0   \n",
       "2                   393.0        6.8         2.35                 85000   \n",
       "3                 23000.0        8.5         2.35                164000   \n",
       "4                    12.0        7.1          NaN                     0   \n",
       "\n",
       "  total_likes  \n",
       "0     35791.0  \n",
       "1     46000.0  \n",
       "2     96554.0  \n",
       "3    237000.0  \n",
       "4         NaN  \n",
       "\n",
       "[5 rows x 29 columns]"
      ]
     },
     "execution_count": 3,
     "metadata": {},
     "output_type": "execute_result"
    }
   ],
   "source": [
    "movieData = pd.read_csv('movie_metadata.csv', sep=',')\n",
    "movieData[\"total_likes\"] = movieData[\"movie_facebook_likes\"] + movieData[\"actor_1_facebook_likes\"] + movieData[\"actor_2_facebook_likes\"]+ movieData[\"actor_3_facebook_likes\"]\n",
    "movieData.head()"
   ]
  },
  {
   "cell_type": "code",
   "execution_count": 9,
   "metadata": {},
   "outputs": [
    {
     "data": {
      "text/html": [
       "<div>\n",
       "<style scoped>\n",
       "    .dataframe tbody tr th:only-of-type {\n",
       "        vertical-align: middle;\n",
       "    }\n",
       "\n",
       "    .dataframe tbody tr th {\n",
       "        vertical-align: top;\n",
       "    }\n",
       "\n",
       "    .dataframe thead th {\n",
       "        text-align: right;\n",
       "    }\n",
       "</style>\n",
       "<table border=\"1\" class=\"dataframe\">\n",
       "  <thead>\n",
       "    <tr style=\"text-align: right;\">\n",
       "      <th></th>\n",
       "      <th>Rank</th>\n",
       "      <th>Title</th>\n",
       "      <th>Genre</th>\n",
       "      <th>Description</th>\n",
       "      <th>Director</th>\n",
       "      <th>Actors</th>\n",
       "      <th>Year</th>\n",
       "      <th>Runtime (Minutes)</th>\n",
       "      <th>Rating</th>\n",
       "      <th>Votes</th>\n",
       "      <th>Revenue (Millions)</th>\n",
       "      <th>Metascore</th>\n",
       "    </tr>\n",
       "  </thead>\n",
       "  <tbody>\n",
       "    <tr>\n",
       "      <th>0</th>\n",
       "      <td>1</td>\n",
       "      <td>Guardians of the Galaxy</td>\n",
       "      <td>Action,Adventure,Sci-Fi</td>\n",
       "      <td>A group of intergalactic criminals are forced ...</td>\n",
       "      <td>James Gunn</td>\n",
       "      <td>Chris Pratt, Vin Diesel, Bradley Cooper, Zoe S...</td>\n",
       "      <td>2014</td>\n",
       "      <td>121</td>\n",
       "      <td>8.1</td>\n",
       "      <td>757074</td>\n",
       "      <td>333.13</td>\n",
       "      <td>76.0</td>\n",
       "    </tr>\n",
       "    <tr>\n",
       "      <th>1</th>\n",
       "      <td>2</td>\n",
       "      <td>Prometheus</td>\n",
       "      <td>Adventure,Mystery,Sci-Fi</td>\n",
       "      <td>Following clues to the origin of mankind, a te...</td>\n",
       "      <td>Ridley Scott</td>\n",
       "      <td>Noomi Rapace, Logan Marshall-Green, Michael Fa...</td>\n",
       "      <td>2012</td>\n",
       "      <td>124</td>\n",
       "      <td>7.0</td>\n",
       "      <td>485820</td>\n",
       "      <td>126.46</td>\n",
       "      <td>65.0</td>\n",
       "    </tr>\n",
       "    <tr>\n",
       "      <th>2</th>\n",
       "      <td>3</td>\n",
       "      <td>Split</td>\n",
       "      <td>Horror,Thriller</td>\n",
       "      <td>Three girls are kidnapped by a man with a diag...</td>\n",
       "      <td>M. Night Shyamalan</td>\n",
       "      <td>James McAvoy, Anya Taylor-Joy, Haley Lu Richar...</td>\n",
       "      <td>2016</td>\n",
       "      <td>117</td>\n",
       "      <td>7.3</td>\n",
       "      <td>157606</td>\n",
       "      <td>138.12</td>\n",
       "      <td>62.0</td>\n",
       "    </tr>\n",
       "    <tr>\n",
       "      <th>3</th>\n",
       "      <td>4</td>\n",
       "      <td>Sing</td>\n",
       "      <td>Animation,Comedy,Family</td>\n",
       "      <td>In a city of humanoid animals, a hustling thea...</td>\n",
       "      <td>Christophe Lourdelet</td>\n",
       "      <td>Matthew McConaughey,Reese Witherspoon, Seth Ma...</td>\n",
       "      <td>2016</td>\n",
       "      <td>108</td>\n",
       "      <td>7.2</td>\n",
       "      <td>60545</td>\n",
       "      <td>270.32</td>\n",
       "      <td>59.0</td>\n",
       "    </tr>\n",
       "    <tr>\n",
       "      <th>4</th>\n",
       "      <td>5</td>\n",
       "      <td>Suicide Squad</td>\n",
       "      <td>Action,Adventure,Fantasy</td>\n",
       "      <td>A secret government agency recruits some of th...</td>\n",
       "      <td>David Ayer</td>\n",
       "      <td>Will Smith, Jared Leto, Margot Robbie, Viola D...</td>\n",
       "      <td>2016</td>\n",
       "      <td>123</td>\n",
       "      <td>6.2</td>\n",
       "      <td>393727</td>\n",
       "      <td>325.02</td>\n",
       "      <td>40.0</td>\n",
       "    </tr>\n",
       "  </tbody>\n",
       "</table>\n",
       "</div>"
      ],
      "text/plain": [
       "   Rank                    Title                     Genre  \\\n",
       "0     1  Guardians of the Galaxy   Action,Adventure,Sci-Fi   \n",
       "1     2               Prometheus  Adventure,Mystery,Sci-Fi   \n",
       "2     3                    Split           Horror,Thriller   \n",
       "3     4                     Sing   Animation,Comedy,Family   \n",
       "4     5            Suicide Squad  Action,Adventure,Fantasy   \n",
       "\n",
       "                                         Description              Director  \\\n",
       "0  A group of intergalactic criminals are forced ...            James Gunn   \n",
       "1  Following clues to the origin of mankind, a te...          Ridley Scott   \n",
       "2  Three girls are kidnapped by a man with a diag...    M. Night Shyamalan   \n",
       "3  In a city of humanoid animals, a hustling thea...  Christophe Lourdelet   \n",
       "4  A secret government agency recruits some of th...            David Ayer   \n",
       "\n",
       "                                              Actors  Year  Runtime (Minutes)  \\\n",
       "0  Chris Pratt, Vin Diesel, Bradley Cooper, Zoe S...  2014                121   \n",
       "1  Noomi Rapace, Logan Marshall-Green, Michael Fa...  2012                124   \n",
       "2  James McAvoy, Anya Taylor-Joy, Haley Lu Richar...  2016                117   \n",
       "3  Matthew McConaughey,Reese Witherspoon, Seth Ma...  2016                108   \n",
       "4  Will Smith, Jared Leto, Margot Robbie, Viola D...  2016                123   \n",
       "\n",
       "   Rating   Votes  Revenue (Millions)  Metascore  \n",
       "0     8.1  757074              333.13       76.0  \n",
       "1     7.0  485820              126.46       65.0  \n",
       "2     7.3  157606              138.12       62.0  \n",
       "3     7.2   60545              270.32       59.0  \n",
       "4     6.2  393727              325.02       40.0  "
      ]
     },
     "execution_count": 9,
     "metadata": {},
     "output_type": "execute_result"
    }
   ],
   "source": [
    "imdbExtraData = pd.read_csv('IMDB-Movie-Data.csv', sep=',')\n",
    "imdbExtraData.head()"
   ]
  },
  {
   "cell_type": "markdown",
   "metadata": {},
   "source": [
    "## Data Analyze"
   ]
  },
  {
   "cell_type": "markdown",
   "metadata": {},
   "source": [
    "Wij willen eerst kijken wat voor data wij allemaal hebben en hoe compleet deze data is:"
   ]
  },
  {
   "cell_type": "code",
   "execution_count": 10,
   "metadata": {},
   "outputs": [
    {
     "name": "stdout",
     "output_type": "stream",
     "text": [
      "Index(['color', 'director_name', 'num_critic_for_reviews', 'duration',\n",
      "       'director_facebook_likes', 'actor_3_facebook_likes', 'actor_2_name',\n",
      "       'actor_1_facebook_likes', 'gross', 'genres', 'actor_1_name',\n",
      "       'movie_title', 'num_voted_users', 'cast_total_facebook_likes',\n",
      "       'actor_3_name', 'facenumber_in_poster', 'plot_keywords',\n",
      "       'movie_imdb_link', 'num_user_for_reviews', 'language', 'country',\n",
      "       'content_rating', 'budget', 'title_year', 'actor_2_facebook_likes',\n",
      "       'imdb_score', 'aspect_ratio', 'movie_facebook_likes', 'total_likes'],\n",
      "      dtype='object')\n"
     ]
    }
   ],
   "source": [
    "print(movieData.columns)"
   ]
  },
  {
   "cell_type": "code",
   "execution_count": 11,
   "metadata": {},
   "outputs": [
    {
     "name": "stdout",
     "output_type": "stream",
     "text": [
      "Index(['Rank', 'Title', 'Genre', 'Description', 'Director', 'Actors', 'Year',\n",
      "       'Runtime (Minutes)', 'Rating', 'Votes', 'Revenue (Millions)',\n",
      "       'Metascore'],\n",
      "      dtype='object')\n"
     ]
    }
   ],
   "source": [
    "print(imdbExtraData.columns)"
   ]
  },
  {
   "cell_type": "markdown",
   "metadata": {},
   "source": [
    "Graag willen wij ook even weten wat voor typen data wij hebben:"
   ]
  },
  {
   "cell_type": "code",
   "execution_count": 12,
   "metadata": {},
   "outputs": [
    {
     "data": {
      "text/plain": [
       "color                         object\n",
       "director_name                 object\n",
       "num_critic_for_reviews       float64\n",
       "duration                     float64\n",
       "director_facebook_likes      float64\n",
       "actor_3_facebook_likes       float64\n",
       "actor_2_name                  object\n",
       "actor_1_facebook_likes       float64\n",
       "gross                        float64\n",
       "genres                        object\n",
       "actor_1_name                  object\n",
       "movie_title                   object\n",
       "num_voted_users                int64\n",
       "cast_total_facebook_likes      int64\n",
       "actor_3_name                  object\n",
       "facenumber_in_poster         float64\n",
       "plot_keywords                 object\n",
       "movie_imdb_link               object\n",
       "num_user_for_reviews         float64\n",
       "language                      object\n",
       "country                       object\n",
       "content_rating                object\n",
       "budget                       float64\n",
       "title_year                   float64\n",
       "actor_2_facebook_likes       float64\n",
       "imdb_score                   float64\n",
       "aspect_ratio                 float64\n",
       "movie_facebook_likes           int64\n",
       "total_likes                  float64\n",
       "dtype: object"
      ]
     },
     "execution_count": 12,
     "metadata": {},
     "output_type": "execute_result"
    }
   ],
   "source": [
    "movieArray = movieData.infer_objects()\n",
    "\n",
    "movieArray.dtypes"
   ]
  },
  {
   "cell_type": "code",
   "execution_count": 13,
   "metadata": {},
   "outputs": [
    {
     "data": {
      "text/plain": [
       "Rank                    int64\n",
       "Title                  object\n",
       "Genre                  object\n",
       "Description            object\n",
       "Director               object\n",
       "Actors                 object\n",
       "Year                    int64\n",
       "Runtime (Minutes)       int64\n",
       "Rating                float64\n",
       "Votes                   int64\n",
       "Revenue (Millions)    float64\n",
       "Metascore             float64\n",
       "dtype: object"
      ]
     },
     "execution_count": 13,
     "metadata": {},
     "output_type": "execute_result"
    }
   ],
   "source": [
    "imdbArray = imdbExtraData.infer_objects()\n",
    "\n",
    "imdbArray.dtypes"
   ]
  },
  {
   "cell_type": "markdown",
   "metadata": {},
   "source": [
    "Wat er dan nog verkeerd aan onze Numpy Arrays is, is dat de String Lists (Bijvoorbeeld Genre's of Acteurs) geen lists zijn. \n",
    "\n",
    "Voordat wij dit kunnen fixen moeten wij eerst rows droppen die NaN zijn. \n",
    "\n",
    "Eerst willen wij weten hoeveel NaN values wij nou echt hebben."
   ]
  },
  {
   "cell_type": "code",
   "execution_count": 14,
   "metadata": {},
   "outputs": [
    {
     "name": "stdout",
     "output_type": "stream",
     "text": [
      "color                         19\n",
      "director_name                104\n",
      "num_critic_for_reviews        50\n",
      "duration                      15\n",
      "director_facebook_likes      104\n",
      "actor_3_facebook_likes        23\n",
      "actor_2_name                  13\n",
      "actor_1_facebook_likes         7\n",
      "gross                        884\n",
      "genres                         0\n",
      "actor_1_name                   7\n",
      "movie_title                    0\n",
      "num_voted_users                0\n",
      "cast_total_facebook_likes      0\n",
      "actor_3_name                  23\n",
      "facenumber_in_poster          13\n",
      "plot_keywords                153\n",
      "movie_imdb_link                0\n",
      "num_user_for_reviews          21\n",
      "language                      12\n",
      "country                        5\n",
      "content_rating               303\n",
      "budget                       492\n",
      "title_year                   108\n",
      "actor_2_facebook_likes        13\n",
      "imdb_score                     0\n",
      "aspect_ratio                 329\n",
      "movie_facebook_likes           0\n",
      "total_likes                   23\n",
      "dtype: int64\n"
     ]
    }
   ],
   "source": [
    "print(pd.isnull(movieArray).sum())"
   ]
  },
  {
   "cell_type": "code",
   "execution_count": 15,
   "metadata": {},
   "outputs": [
    {
     "name": "stdout",
     "output_type": "stream",
     "text": [
      "Rank                    0\n",
      "Title                   0\n",
      "Genre                   0\n",
      "Description             0\n",
      "Director                0\n",
      "Actors                  0\n",
      "Year                    0\n",
      "Runtime (Minutes)       0\n",
      "Rating                  0\n",
      "Votes                   0\n",
      "Revenue (Millions)    128\n",
      "Metascore              64\n",
      "dtype: int64\n"
     ]
    }
   ],
   "source": [
    "print(pd.isnull(imdbArray).sum())"
   ]
  },
  {
   "cell_type": "markdown",
   "metadata": {},
   "source": [
    "Wat we best snel kunnen zien is dat de Gross Revenue vaak NaN is, in onze eerste dataset hebben wij van 884 films hun revenue gewoon helemaal niet (Dat is al bijna 1/5de van onze volledige dataset).\n",
    "\n",
    "Dit kan later voor problemen zorgen wanneer wij machine learning gebruiken om te voorspellen hoeveel revenue een film krijgt gebaseerd op facebook likes van de acteurs/cast/directeurs.\n",
    "\n",
    "Laten wij eerst de data een beetje opschonen, ten eerste willen wij de Strings die eigenlijk lijsten van acteurs/genres/etc zijn omzetten naar echte lijsten. Ook willen wij rows weggooien die data hebben die wij moeten hebben, deze data is: Revenue (Millions), Metascore, imdb_score, director_name, director_facebook_likes, actor_1_name, actor_1_facebook_likes, actor_2_name, actor_2_facebook_likes, actor_3_name, actor_3_facebook_likes, budget en gross.\n",
    "\n",
    "Dit doe ik hier:"
   ]
  },
  {
   "cell_type": "code",
   "execution_count": 16,
   "metadata": {},
   "outputs": [],
   "source": [
    "imdbArray = imdbArray.dropna(subset=['Revenue (Millions)'])\n",
    "imdbArray = imdbArray.dropna(subset=['Metascore'])\n",
    "\n",
    "movieArray = movieArray.dropna(subset=['imdb_score'])\n",
    "movieArray = movieArray.dropna(subset=['director_name'])\n",
    "movieArray = movieArray.dropna(subset=['director_facebook_likes'])\n",
    "movieArray = movieArray.dropna(subset=['actor_1_name'])\n",
    "movieArray = movieArray.dropna(subset=['actor_1_facebook_likes'])\n",
    "movieArray = movieArray.dropna(subset=['actor_2_name'])\n",
    "movieArray = movieArray.dropna(subset=['actor_2_facebook_likes'])\n",
    "movieArray = movieArray.dropna(subset=['actor_3_name'])\n",
    "movieArray = movieArray.dropna(subset=['actor_3_facebook_likes'])\n",
    "movieArray = movieArray.dropna(subset=['budget'])\n",
    "movieArray = movieArray.dropna(subset=['gross'])\n",
    "\n",
    "#Na het verwijderen van NaN values moet de index ook nog gereset worden van de Arrays, anders kan dat snel voor errors zorgen\n",
    "\n",
    "movieArray.reset_index(drop=True, inplace=True)\n",
    "imdbArray.reset_index(drop=True, inplace=True)"
   ]
  },
  {
   "cell_type": "code",
   "execution_count": 17,
   "metadata": {},
   "outputs": [
    {
     "name": "stdout",
     "output_type": "stream",
     "text": [
      "color                         2\n",
      "director_name                 0\n",
      "num_critic_for_reviews        1\n",
      "duration                      1\n",
      "director_facebook_likes       0\n",
      "actor_3_facebook_likes        0\n",
      "actor_2_name                  0\n",
      "actor_1_facebook_likes        0\n",
      "gross                         0\n",
      "genres                        0\n",
      "actor_1_name                  0\n",
      "movie_title                   0\n",
      "num_voted_users               0\n",
      "cast_total_facebook_likes     0\n",
      "actor_3_name                  0\n",
      "facenumber_in_poster          6\n",
      "plot_keywords                30\n",
      "movie_imdb_link               0\n",
      "num_user_for_reviews          0\n",
      "language                      3\n",
      "country                       0\n",
      "content_rating               47\n",
      "budget                        0\n",
      "title_year                    0\n",
      "actor_2_facebook_likes        0\n",
      "imdb_score                    0\n",
      "aspect_ratio                 73\n",
      "movie_facebook_likes          0\n",
      "total_likes                   0\n",
      "dtype: int64\n"
     ]
    }
   ],
   "source": [
    "print(pd.isnull(movieArray).sum())"
   ]
  },
  {
   "cell_type": "code",
   "execution_count": 18,
   "metadata": {},
   "outputs": [
    {
     "name": "stdout",
     "output_type": "stream",
     "text": [
      "Rank                  0\n",
      "Title                 0\n",
      "Genre                 0\n",
      "Description           0\n",
      "Director              0\n",
      "Actors                0\n",
      "Year                  0\n",
      "Runtime (Minutes)     0\n",
      "Rating                0\n",
      "Votes                 0\n",
      "Revenue (Millions)    0\n",
      "Metascore             0\n",
      "dtype: int64\n"
     ]
    }
   ],
   "source": [
    "print(pd.isnull(imdbArray).sum())"
   ]
  },
  {
   "cell_type": "markdown",
   "metadata": {},
   "source": [
    "Nu hebben wij dus geen rows meer met NaN data, dit kan wel zorgen voor minder correcte data. Maar sinds wij 2 zeer grote Datasets hebben zou dit geen probleem horen te zijn.\n",
    "\n",
    "Nu er geen NaN data meer is kan ik met een lambda en de split functie alle columns die een String list in een String hebben omzetten naar lists."
   ]
  },
  {
   "cell_type": "code",
   "execution_count": 19,
   "metadata": {},
   "outputs": [
    {
     "data": {
      "text/plain": [
       "0    [Action, Adventure, Fantasy, Sci-Fi]\n",
       "1            [Action, Adventure, Fantasy]\n",
       "2           [Action, Adventure, Thriller]\n",
       "3                      [Action, Thriller]\n",
       "4             [Action, Adventure, Sci-Fi]\n",
       "Name: genres, dtype: object"
      ]
     },
     "execution_count": 19,
     "metadata": {},
     "output_type": "execute_result"
    }
   ],
   "source": [
    "movieArray['genres'] = movieArray['genres'].apply(lambda x : x.split('|'))\n",
    "\n",
    "movieArray['genres'].head()"
   ]
  },
  {
   "cell_type": "code",
   "execution_count": 20,
   "metadata": {},
   "outputs": [
    {
     "data": {
      "text/plain": [
       "0         [avatar, future, marine, native, paraplegic]\n",
       "1    [goddess, marriage ceremony, marriage proposal...\n",
       "2            [bomb, espionage, sequel, spy, terrorist]\n",
       "3    [deception, imprisonment, lawlessness, police ...\n",
       "4    [alien, american civil war, male nipple, mars,...\n",
       "Name: plot_keywords, dtype: object"
      ]
     },
     "execution_count": 20,
     "metadata": {},
     "output_type": "execute_result"
    }
   ],
   "source": [
    "#Split geeft errors bij een NaN value\n",
    "movieArray = movieArray.dropna(subset=['plot_keywords'])\n",
    "movieArray['plot_keywords'] = movieArray['plot_keywords'].apply(lambda x : x.split('|'))\n",
    "movieArray['plot_keywords'].head()"
   ]
  },
  {
   "cell_type": "code",
   "execution_count": 21,
   "metadata": {},
   "outputs": [
    {
     "data": {
      "text/plain": [
       "0     [Action, Adventure, Sci-Fi]\n",
       "1    [Adventure, Mystery, Sci-Fi]\n",
       "2              [Horror, Thriller]\n",
       "3     [Animation, Comedy, Family]\n",
       "4    [Action, Adventure, Fantasy]\n",
       "Name: Genre, dtype: object"
      ]
     },
     "execution_count": 21,
     "metadata": {},
     "output_type": "execute_result"
    }
   ],
   "source": [
    "imdbArray['Genre'] = imdbArray['Genre'].apply(lambda x : x.split(','))\n",
    "imdbArray['Genre'].head()"
   ]
  },
  {
   "cell_type": "markdown",
   "metadata": {},
   "source": [
    "Voor onze eerste dataset hebben wij ook de column Color niet nodig, wij gooien deze dus weg"
   ]
  },
  {
   "cell_type": "code",
   "execution_count": 22,
   "metadata": {},
   "outputs": [
    {
     "data": {
      "text/html": [
       "<div>\n",
       "<style scoped>\n",
       "    .dataframe tbody tr th:only-of-type {\n",
       "        vertical-align: middle;\n",
       "    }\n",
       "\n",
       "    .dataframe tbody tr th {\n",
       "        vertical-align: top;\n",
       "    }\n",
       "\n",
       "    .dataframe thead th {\n",
       "        text-align: right;\n",
       "    }\n",
       "</style>\n",
       "<table border=\"1\" class=\"dataframe\">\n",
       "  <thead>\n",
       "    <tr style=\"text-align: right;\">\n",
       "      <th></th>\n",
       "      <th>director_name</th>\n",
       "      <th>num_critic_for_reviews</th>\n",
       "      <th>duration</th>\n",
       "      <th>director_facebook_likes</th>\n",
       "      <th>actor_3_facebook_likes</th>\n",
       "      <th>actor_2_name</th>\n",
       "      <th>actor_1_facebook_likes</th>\n",
       "      <th>gross</th>\n",
       "      <th>genres</th>\n",
       "      <th>actor_1_name</th>\n",
       "      <th>...</th>\n",
       "      <th>language</th>\n",
       "      <th>country</th>\n",
       "      <th>content_rating</th>\n",
       "      <th>budget</th>\n",
       "      <th>title_year</th>\n",
       "      <th>actor_2_facebook_likes</th>\n",
       "      <th>imdb_score</th>\n",
       "      <th>aspect_ratio</th>\n",
       "      <th>movie_facebook_likes</th>\n",
       "      <th>total_likes</th>\n",
       "    </tr>\n",
       "  </thead>\n",
       "  <tbody>\n",
       "    <tr>\n",
       "      <th>0</th>\n",
       "      <td>James Cameron</td>\n",
       "      <td>723.0</td>\n",
       "      <td>178.0</td>\n",
       "      <td>0.0</td>\n",
       "      <td>855.0</td>\n",
       "      <td>Joel David Moore</td>\n",
       "      <td>1000.0</td>\n",
       "      <td>760505847.0</td>\n",
       "      <td>[Action, Adventure, Fantasy, Sci-Fi]</td>\n",
       "      <td>CCH Pounder</td>\n",
       "      <td>...</td>\n",
       "      <td>English</td>\n",
       "      <td>USA</td>\n",
       "      <td>PG-13</td>\n",
       "      <td>237000000.0</td>\n",
       "      <td>2009.0</td>\n",
       "      <td>936.0</td>\n",
       "      <td>7.9</td>\n",
       "      <td>1.78</td>\n",
       "      <td>33000</td>\n",
       "      <td>35791.0</td>\n",
       "    </tr>\n",
       "    <tr>\n",
       "      <th>1</th>\n",
       "      <td>Gore Verbinski</td>\n",
       "      <td>302.0</td>\n",
       "      <td>169.0</td>\n",
       "      <td>563.0</td>\n",
       "      <td>1000.0</td>\n",
       "      <td>Orlando Bloom</td>\n",
       "      <td>40000.0</td>\n",
       "      <td>309404152.0</td>\n",
       "      <td>[Action, Adventure, Fantasy]</td>\n",
       "      <td>Johnny Depp</td>\n",
       "      <td>...</td>\n",
       "      <td>English</td>\n",
       "      <td>USA</td>\n",
       "      <td>PG-13</td>\n",
       "      <td>300000000.0</td>\n",
       "      <td>2007.0</td>\n",
       "      <td>5000.0</td>\n",
       "      <td>7.1</td>\n",
       "      <td>2.35</td>\n",
       "      <td>0</td>\n",
       "      <td>46000.0</td>\n",
       "    </tr>\n",
       "    <tr>\n",
       "      <th>2</th>\n",
       "      <td>Sam Mendes</td>\n",
       "      <td>602.0</td>\n",
       "      <td>148.0</td>\n",
       "      <td>0.0</td>\n",
       "      <td>161.0</td>\n",
       "      <td>Rory Kinnear</td>\n",
       "      <td>11000.0</td>\n",
       "      <td>200074175.0</td>\n",
       "      <td>[Action, Adventure, Thriller]</td>\n",
       "      <td>Christoph Waltz</td>\n",
       "      <td>...</td>\n",
       "      <td>English</td>\n",
       "      <td>UK</td>\n",
       "      <td>PG-13</td>\n",
       "      <td>245000000.0</td>\n",
       "      <td>2015.0</td>\n",
       "      <td>393.0</td>\n",
       "      <td>6.8</td>\n",
       "      <td>2.35</td>\n",
       "      <td>85000</td>\n",
       "      <td>96554.0</td>\n",
       "    </tr>\n",
       "    <tr>\n",
       "      <th>3</th>\n",
       "      <td>Christopher Nolan</td>\n",
       "      <td>813.0</td>\n",
       "      <td>164.0</td>\n",
       "      <td>22000.0</td>\n",
       "      <td>23000.0</td>\n",
       "      <td>Christian Bale</td>\n",
       "      <td>27000.0</td>\n",
       "      <td>448130642.0</td>\n",
       "      <td>[Action, Thriller]</td>\n",
       "      <td>Tom Hardy</td>\n",
       "      <td>...</td>\n",
       "      <td>English</td>\n",
       "      <td>USA</td>\n",
       "      <td>PG-13</td>\n",
       "      <td>250000000.0</td>\n",
       "      <td>2012.0</td>\n",
       "      <td>23000.0</td>\n",
       "      <td>8.5</td>\n",
       "      <td>2.35</td>\n",
       "      <td>164000</td>\n",
       "      <td>237000.0</td>\n",
       "    </tr>\n",
       "    <tr>\n",
       "      <th>4</th>\n",
       "      <td>Andrew Stanton</td>\n",
       "      <td>462.0</td>\n",
       "      <td>132.0</td>\n",
       "      <td>475.0</td>\n",
       "      <td>530.0</td>\n",
       "      <td>Samantha Morton</td>\n",
       "      <td>640.0</td>\n",
       "      <td>73058679.0</td>\n",
       "      <td>[Action, Adventure, Sci-Fi]</td>\n",
       "      <td>Daryl Sabara</td>\n",
       "      <td>...</td>\n",
       "      <td>English</td>\n",
       "      <td>USA</td>\n",
       "      <td>PG-13</td>\n",
       "      <td>263700000.0</td>\n",
       "      <td>2012.0</td>\n",
       "      <td>632.0</td>\n",
       "      <td>6.6</td>\n",
       "      <td>2.35</td>\n",
       "      <td>24000</td>\n",
       "      <td>25802.0</td>\n",
       "    </tr>\n",
       "  </tbody>\n",
       "</table>\n",
       "<p>5 rows × 28 columns</p>\n",
       "</div>"
      ],
      "text/plain": [
       "       director_name  num_critic_for_reviews  duration  \\\n",
       "0      James Cameron                   723.0     178.0   \n",
       "1     Gore Verbinski                   302.0     169.0   \n",
       "2         Sam Mendes                   602.0     148.0   \n",
       "3  Christopher Nolan                   813.0     164.0   \n",
       "4     Andrew Stanton                   462.0     132.0   \n",
       "\n",
       "   director_facebook_likes  actor_3_facebook_likes      actor_2_name  \\\n",
       "0                      0.0                   855.0  Joel David Moore   \n",
       "1                    563.0                  1000.0     Orlando Bloom   \n",
       "2                      0.0                   161.0      Rory Kinnear   \n",
       "3                  22000.0                 23000.0    Christian Bale   \n",
       "4                    475.0                   530.0   Samantha Morton   \n",
       "\n",
       "   actor_1_facebook_likes        gross                                genres  \\\n",
       "0                  1000.0  760505847.0  [Action, Adventure, Fantasy, Sci-Fi]   \n",
       "1                 40000.0  309404152.0          [Action, Adventure, Fantasy]   \n",
       "2                 11000.0  200074175.0         [Action, Adventure, Thriller]   \n",
       "3                 27000.0  448130642.0                    [Action, Thriller]   \n",
       "4                   640.0   73058679.0           [Action, Adventure, Sci-Fi]   \n",
       "\n",
       "      actor_1_name     ...     language  country  content_rating       budget  \\\n",
       "0      CCH Pounder     ...      English      USA           PG-13  237000000.0   \n",
       "1      Johnny Depp     ...      English      USA           PG-13  300000000.0   \n",
       "2  Christoph Waltz     ...      English       UK           PG-13  245000000.0   \n",
       "3        Tom Hardy     ...      English      USA           PG-13  250000000.0   \n",
       "4     Daryl Sabara     ...      English      USA           PG-13  263700000.0   \n",
       "\n",
       "   title_year actor_2_facebook_likes imdb_score  aspect_ratio  \\\n",
       "0      2009.0                  936.0        7.9          1.78   \n",
       "1      2007.0                 5000.0        7.1          2.35   \n",
       "2      2015.0                  393.0        6.8          2.35   \n",
       "3      2012.0                23000.0        8.5          2.35   \n",
       "4      2012.0                  632.0        6.6          2.35   \n",
       "\n",
       "  movie_facebook_likes total_likes  \n",
       "0                33000     35791.0  \n",
       "1                    0     46000.0  \n",
       "2                85000     96554.0  \n",
       "3               164000    237000.0  \n",
       "4                24000     25802.0  \n",
       "\n",
       "[5 rows x 28 columns]"
      ]
     },
     "execution_count": 22,
     "metadata": {},
     "output_type": "execute_result"
    }
   ],
   "source": [
    "movieArray = movieArray.drop(columns='color')\n",
    "movieArray.head()"
   ]
  },
  {
   "cell_type": "markdown",
   "metadata": {},
   "source": [
    "Wat wij dus willen weten is de gross revenue gebaseerd op IMDB score en gebaseerd op Facebook likes. Wij mergen dus eerst onze datasets samen zodat wij een globale dataset hebben die wij hiervoor kunnen gebruiken:"
   ]
  },
  {
   "cell_type": "code",
   "execution_count": 23,
   "metadata": {},
   "outputs": [
    {
     "name": "stderr",
     "output_type": "stream",
     "text": [
      "C:\\Users\\robin\\Anaconda3\\lib\\site-packages\\ipykernel_launcher.py:6: SettingWithCopyWarning: \n",
      "A value is trying to be set on a copy of a slice from a DataFrame.\n",
      "Try using .loc[row_indexer,col_indexer] = value instead\n",
      "\n",
      "See the caveats in the documentation: http://pandas.pydata.org/pandas-docs/stable/indexing.html#indexing-view-versus-copy\n",
      "  \n"
     ]
    }
   ],
   "source": [
    "arraysToKeepMovieArray = ['movie_title', 'imdb_score', 'gross', 'director_facebook_likes', 'actor_1_facebook_likes', 'actor_2_facebook_likes', 'actor_3_facebook_likes']\n",
    "\n",
    "ndf = movieArray[arraysToKeepMovieArray]\n",
    "\n",
    "#Het decimaalpunt stond verkeerd in deze\n",
    "ndf['imdb_score'] = ndf.imdb_score.apply(lambda x: x * 10)"
   ]
  },
  {
   "cell_type": "code",
   "execution_count": 24,
   "metadata": {},
   "outputs": [
    {
     "data": {
      "text/html": [
       "<div>\n",
       "<style scoped>\n",
       "    .dataframe tbody tr th:only-of-type {\n",
       "        vertical-align: middle;\n",
       "    }\n",
       "\n",
       "    .dataframe tbody tr th {\n",
       "        vertical-align: top;\n",
       "    }\n",
       "\n",
       "    .dataframe thead th {\n",
       "        text-align: right;\n",
       "    }\n",
       "</style>\n",
       "<table border=\"1\" class=\"dataframe\">\n",
       "  <thead>\n",
       "    <tr style=\"text-align: right;\">\n",
       "      <th></th>\n",
       "      <th>movie_title</th>\n",
       "      <th>imdb_score</th>\n",
       "      <th>gross</th>\n",
       "      <th>director_facebook_likes</th>\n",
       "      <th>actor_1_facebook_likes</th>\n",
       "      <th>actor_2_facebook_likes</th>\n",
       "      <th>actor_3_facebook_likes</th>\n",
       "    </tr>\n",
       "    <tr>\n",
       "      <th>index</th>\n",
       "      <th></th>\n",
       "      <th></th>\n",
       "      <th></th>\n",
       "      <th></th>\n",
       "      <th></th>\n",
       "      <th></th>\n",
       "      <th></th>\n",
       "    </tr>\n",
       "  </thead>\n",
       "  <tbody>\n",
       "    <tr>\n",
       "      <th>0</th>\n",
       "      <td>Avatar</td>\n",
       "      <td>79.0</td>\n",
       "      <td>760505847.0</td>\n",
       "      <td>0.0</td>\n",
       "      <td>1000.0</td>\n",
       "      <td>936.0</td>\n",
       "      <td>855.0</td>\n",
       "    </tr>\n",
       "    <tr>\n",
       "      <th>1</th>\n",
       "      <td>Pirates of the Caribbean: At World's End</td>\n",
       "      <td>71.0</td>\n",
       "      <td>309404152.0</td>\n",
       "      <td>563.0</td>\n",
       "      <td>40000.0</td>\n",
       "      <td>5000.0</td>\n",
       "      <td>1000.0</td>\n",
       "    </tr>\n",
       "    <tr>\n",
       "      <th>2</th>\n",
       "      <td>Spectre</td>\n",
       "      <td>68.0</td>\n",
       "      <td>200074175.0</td>\n",
       "      <td>0.0</td>\n",
       "      <td>11000.0</td>\n",
       "      <td>393.0</td>\n",
       "      <td>161.0</td>\n",
       "    </tr>\n",
       "    <tr>\n",
       "      <th>3</th>\n",
       "      <td>The Dark Knight Rises</td>\n",
       "      <td>85.0</td>\n",
       "      <td>448130642.0</td>\n",
       "      <td>22000.0</td>\n",
       "      <td>27000.0</td>\n",
       "      <td>23000.0</td>\n",
       "      <td>23000.0</td>\n",
       "    </tr>\n",
       "    <tr>\n",
       "      <th>4</th>\n",
       "      <td>John Carter</td>\n",
       "      <td>66.0</td>\n",
       "      <td>73058679.0</td>\n",
       "      <td>475.0</td>\n",
       "      <td>640.0</td>\n",
       "      <td>632.0</td>\n",
       "      <td>530.0</td>\n",
       "    </tr>\n",
       "  </tbody>\n",
       "</table>\n",
       "</div>"
      ],
      "text/plain": [
       "                                     movie_title  imdb_score        gross  \\\n",
       "index                                                                       \n",
       "0                                        Avatar         79.0  760505847.0   \n",
       "1      Pirates of the Caribbean: At World's End         71.0  309404152.0   \n",
       "2                                       Spectre         68.0  200074175.0   \n",
       "3                         The Dark Knight Rises         85.0  448130642.0   \n",
       "4                                   John Carter         66.0   73058679.0   \n",
       "\n",
       "       director_facebook_likes  actor_1_facebook_likes  \\\n",
       "index                                                    \n",
       "0                          0.0                  1000.0   \n",
       "1                        563.0                 40000.0   \n",
       "2                          0.0                 11000.0   \n",
       "3                      22000.0                 27000.0   \n",
       "4                        475.0                   640.0   \n",
       "\n",
       "       actor_2_facebook_likes  actor_3_facebook_likes  \n",
       "index                                                  \n",
       "0                       936.0                   855.0  \n",
       "1                      5000.0                  1000.0  \n",
       "2                       393.0                   161.0  \n",
       "3                     23000.0                 23000.0  \n",
       "4                       632.0                   530.0  "
      ]
     },
     "execution_count": 24,
     "metadata": {},
     "output_type": "execute_result"
    }
   ],
   "source": [
    "arraysToKeepImdbArray = ['movie_title', 'imdb_score', 'gross']\n",
    "\n",
    "imdbArray = imdbArray.rename(columns={'Title' : 'movie_title', 'Metascore' : 'imdb_score', 'Revenue (Millions)' : 'gross'})\n",
    "\n",
    "ndf2 = imdbArray[arraysToKeepImdbArray]\n",
    "\n",
    "imdbMergedArray = ndf.merge(ndf2, how='left')\n",
    "\n",
    "imdbMergedArray = imdbMergedArray.reset_index()\n",
    "\n",
    "imdbMergedArray = imdbMergedArray.set_index('index')\n",
    "\n",
    "imdbMergedArray.head()"
   ]
  },
  {
   "cell_type": "markdown",
   "metadata": {},
   "source": [
    "Wij hebben nu een gemergede Array die de movie_title, imdb_score, gross revenue en alle likes heeft. Dit maakt het zeer makkelijk om alles te plotten."
   ]
  },
  {
   "cell_type": "markdown",
   "metadata": {},
   "source": [
    "## Gemiddeldes"
   ]
  },
  {
   "cell_type": "code",
   "execution_count": 25,
   "metadata": {},
   "outputs": [
    {
     "name": "stdout",
     "output_type": "stream",
     "text": [
      "Gemidelde aantal likes per film is 7525.9645052548085\n"
     ]
    }
   ],
   "source": [
    "averageLikes = movieData[\"movie_facebook_likes\"].mean()\n",
    "print(\"Gemidelde aantal likes per film is \" + str(averageLikes))"
   ]
  },
  {
   "cell_type": "code",
   "execution_count": 26,
   "metadata": {},
   "outputs": [
    {
     "data": {
      "text/plain": [
       "19320.445109946737"
      ]
     },
     "execution_count": 26,
     "metadata": {},
     "output_type": "execute_result"
    }
   ],
   "source": [
    "movieData[\"movie_facebook_likes\"].std()"
   ]
  },
  {
   "cell_type": "markdown",
   "metadata": {},
   "source": [
    "## Meeste likes "
   ]
  },
  {
   "cell_type": "code",
   "execution_count": 27,
   "metadata": {},
   "outputs": [],
   "source": [
    "def getTotalLikesByColumn(column):\n",
    "    groupedFacebookLikes = movieData.groupby(column)[\"movie_facebook_likes\"].sum()\n",
    "    key = groupedFacebookLikes.idxmax()\n",
    "    maxSum = groupedFacebookLikes.max()\n",
    "    return str(key) + \" heeft totaal \"+ str(maxSum) + \" likes\";"
   ]
  },
  {
   "cell_type": "code",
   "execution_count": 28,
   "metadata": {},
   "outputs": [
    {
     "name": "stdout",
     "output_type": "stream",
     "text": [
      "De director met de meeste likes:\n",
      "Christopher Nolan heeft totaal 829000 likes\n"
     ]
    }
   ],
   "source": [
    "print(\"De director met de meeste likes:\")\n",
    "print(getTotalLikesByColumn(\"director_name\"))"
   ]
  },
  {
   "cell_type": "code",
   "execution_count": 29,
   "metadata": {},
   "outputs": [
    {
     "name": "stdout",
     "output_type": "stream",
     "text": [
      "De hoofd acteur met de meeste likes:\n",
      "Leonardo DiCaprio heeft totaal 1096000 likes\n"
     ]
    }
   ],
   "source": [
    "print(\"De hoofd acteur met de meeste likes:\")\n",
    "print(getTotalLikesByColumn(\"actor_1_name\"))"
   ]
  },
  {
   "cell_type": "code",
   "execution_count": 30,
   "metadata": {
    "scrolled": true
   },
   "outputs": [
    {
     "name": "stdout",
     "output_type": "stream",
     "text": [
      "De film met de meeste likes:\n",
      "Interstellar  heeft totaal 349000 likes\n"
     ]
    }
   ],
   "source": [
    "print(\"De film met de meeste likes:\")\n",
    "print(getTotalLikesByColumn(\"movie_title\"))"
   ]
  },
  {
   "cell_type": "markdown",
   "metadata": {},
   "source": [
    "## Minste likes"
   ]
  },
  {
   "cell_type": "code",
   "execution_count": 31,
   "metadata": {},
   "outputs": [],
   "source": [
    "def getMinLikesByColumn(column):\n",
    "    groupedFacebookLikes = movieData.groupby(column)[\"movie_facebook_likes\"].sum()\n",
    "    key = groupedFacebookLikes.idxmin()\n",
    "    maxSum = groupedFacebookLikes.min()\n",
    "    return str(key) + \" heeft totaal \"+ str(maxSum) + \" likes\";"
   ]
  },
  {
   "cell_type": "code",
   "execution_count": 32,
   "metadata": {},
   "outputs": [
    {
     "name": "stdout",
     "output_type": "stream",
     "text": [
      "De director met de minste likes:\n",
      "Aaron Hann heeft totaal 0 likes\n"
     ]
    }
   ],
   "source": [
    "print(\"De director met de minste likes:\")\n",
    "print(getMinLikesByColumn(\"director_name\"))"
   ]
  },
  {
   "cell_type": "code",
   "execution_count": 33,
   "metadata": {},
   "outputs": [
    {
     "name": "stdout",
     "output_type": "stream",
     "text": [
      "De hoofd acteur met de minste likes:\n",
      "50 Cent heeft totaal 0 likes\n"
     ]
    }
   ],
   "source": [
    "print(\"De hoofd acteur met de minste likes:\")\n",
    "print(getMinLikesByColumn(\"actor_1_name\"))"
   ]
  },
  {
   "cell_type": "code",
   "execution_count": 34,
   "metadata": {},
   "outputs": [
    {
     "name": "stdout",
     "output_type": "stream",
     "text": [
      "De film met de minste likes:\n",
      "10,000 B.C.              heeft totaal 0 likes\n"
     ]
    }
   ],
   "source": [
    "print(\"De film met de minste likes:\")\n",
    "print(getMinLikesByColumn(\"movie_title\"))"
   ]
  },
  {
   "cell_type": "markdown",
   "metadata": {},
   "source": [
    "## Is er een correlatie tussen facebook likes en IMDB score, en IMDB score en inkomst?\n",
    "Wij hebben een set met data die is opgeschoond en bruikbaar is voor onderzoek.\n",
    "\n",
    "Met deze set willen wij kijken of er een relatie is tussen de facebook likes van de film en de score op IBMD.\n",
    "Dit gaan wij doen door eerst de jaren van de films te onderzoeken."
   ]
  },
  {
   "cell_type": "code",
   "execution_count": 35,
   "metadata": {},
   "outputs": [],
   "source": [
    "#Haalt alle jaren op van de data\n",
    "movieYears = movieData[\"title_year\"]"
   ]
  },
  {
   "cell_type": "code",
   "execution_count": 36,
   "metadata": {
    "scrolled": true
   },
   "outputs": [
    {
     "data": {
      "text/plain": [
       "1916.0"
      ]
     },
     "execution_count": 36,
     "metadata": {},
     "output_type": "execute_result"
    }
   ],
   "source": [
    "#Het eerste jaar\n",
    "movieYears.min()"
   ]
  },
  {
   "cell_type": "code",
   "execution_count": 37,
   "metadata": {},
   "outputs": [
    {
     "data": {
      "text/plain": [
       "2016.0"
      ]
     },
     "execution_count": 37,
     "metadata": {},
     "output_type": "execute_result"
    }
   ],
   "source": [
    "#Het laatste jaar\n",
    "movieYears.max()"
   ]
  },
  {
   "cell_type": "code",
   "execution_count": 60,
   "metadata": {},
   "outputs": [
    {
     "data": {
      "image/png": "[encoded data removed]",
      "text/plain": [
       "<matplotlib.figure.Figure at 0x133774e0630>"
      ]
     },
     "metadata": {},
     "output_type": "display_data"
    }
   ],
   "source": [
    "#haalt de aantal films per jaar op\n",
    "movieYearLabels,movieYearCounts = np.unique(movieYears,return_counts=True)\n",
    "y_pos = np.arange(len(movieYearLabels))\n",
    "\n",
    "plt.plot(movieYearLabels, movieYearCounts)\n",
    "plt.ylabel(\"Aantal\")\n",
    "plt.xlabel(\"Jaar\")\n",
    "plt.title(\"Aantal films per jaar\")\n",
    "plt.show()"
   ]
  },
  {
   "cell_type": "markdown",
   "metadata": {},
   "source": [
    "In de deze graph kunnen wij zien, zoals verwacht, dat na 1980 er veel meer films uit kwamen. \n",
    "Dit heeft natuurlijk te maken met dat de techonologie beter is geworden waardoor er sneller en goedkoper films uit gebracht kunnen worden maar ook kunnen worden weergegeven.\n",
    "\n",
    "Ook kunnen wij hierin zien dat in 2016, het laatste data point, er een daling is van de aantal gemaakte films.\n",
    "De daling heeft geen directe colleratie in de data."
   ]
  },
  {
   "cell_type": "code",
   "execution_count": 39,
   "metadata": {},
   "outputs": [],
   "source": [
    "movieDurations = movieData.groupby(\"title_year\")[\"duration\"]\n",
    "averageMovieTime = movieDurations.mean()"
   ]
  },
  {
   "cell_type": "code",
   "execution_count": 40,
   "metadata": {},
   "outputs": [
    {
     "data": {
      "image/png": "[encoded data removed]",
      "text/plain": [
       "<matplotlib.figure.Figure at 0x133758d1390>"
      ]
     },
     "metadata": {},
     "output_type": "display_data"
    }
   ],
   "source": [
    "averageMovieTime.plot()\n",
    "plt.ylabel(\"tijd (minuten)\")\n",
    "plt.xlabel(\"Jaar\")\n",
    "plt.title(\"Gemiddelde film lengte per jaar\")\n",
    "plt.show()"
   ]
  },
  {
   "cell_type": "markdown",
   "metadata": {},
   "source": [
    "Ook zien we hier dat de films steeds meer de zelfde lengte krijgen.\n",
    "Dit komt ook doordat er minder films waren in de eerdere jaren.\n",
    "Hierdoor krijg je veel uitschieters en wordt hier mee het gemiddelde aangepast."
   ]
  },
  {
   "cell_type": "code",
   "execution_count": 41,
   "metadata": {},
   "outputs": [],
   "source": [
    "totalFacebookLikes = movieData.groupby(\"title_year\")[\"movie_facebook_likes\"].sum()"
   ]
  },
  {
   "cell_type": "code",
   "execution_count": 75,
   "metadata": {},
   "outputs": [
    {
     "data": {
      "image/png": "[encoded data removed]",
      "text/plain": [
       "<matplotlib.figure.Figure at 0x13375a0d898>"
      ]
     },
     "metadata": {},
     "output_type": "display_data"
    }
   ],
   "source": [
    "plt.scatter(movieData[\"title_year\"], movieData[\"movie_facebook_likes\"])\n",
    "plt.ylabel(\"Aantal likes\")\n",
    "plt.xlabel(\"Jaar\")\n",
    "plt.title(\"Aantal likes per jaar\")\n",
    "plt.show()"
   ]
  },
  {
   "cell_type": "markdown",
   "metadata": {},
   "source": [
    "Zoals we hier zien is dat films voor 2004 weinig likes hebben. \n",
    "Dit komt waarschijnlijk doordat Facebook is opgericht in 2004 en wanneer een film wordt aangekondigt of uitkomt wordt dit op Facebook besproken.\n",
    "\n",
    "Ook zien we hier weer in het jaar 2016 dat er minder likes komt. Dit komt weer terug op wat er eerder verteld is."
   ]
  },
  {
   "cell_type": "code",
   "execution_count": 87,
   "metadata": {},
   "outputs": [
    {
     "data": {
      "image/png": "[encoded data removed]",
      "text/plain": [
       "<matplotlib.figure.Figure at 0x133778b7c18>"
      ]
     },
     "metadata": {},
     "output_type": "display_data"
    }
   ],
   "source": [
    "p = sns.jointplot(movieData[\"gross\"], movieData[\"movie_facebook_likes\"]).set_axis_labels(\"Opbrengst\", \"Facebook likes\")"
   ]
  },
  {
   "cell_type": "code",
   "execution_count": 88,
   "metadata": {},
   "outputs": [
    {
     "data": {
      "image/png": "[encoded data removed]",
      "text/plain": [
       "<matplotlib.figure.Figure at 0x13376f21470>"
      ]
     },
     "metadata": {},
     "output_type": "display_data"
    }
   ],
   "source": [
    "q= sns.regplot(x=movieData[\"gross\"], y=movieData[\"movie_facebook_likes\"])"
   ]
  },
  {
   "cell_type": "code",
   "execution_count": 45,
   "metadata": {},
   "outputs": [
    {
     "data": {
      "text/plain": [
       "349000"
      ]
     },
     "execution_count": 45,
     "metadata": {},
     "output_type": "execute_result"
    }
   ],
   "source": [
    "#Uitschieter likes\n",
    "maxLikes = movieData[\"movie_facebook_likes\"].max()\n",
    "maxLikes"
   ]
  },
  {
   "cell_type": "code",
   "execution_count": 46,
   "metadata": {},
   "outputs": [
    {
     "data": {
      "text/plain": [
       "760505847.0"
      ]
     },
     "execution_count": 46,
     "metadata": {},
     "output_type": "execute_result"
    }
   ],
   "source": [
    "#Uitschieter opbrengst\n",
    "maxLikes = movieData[\"gross\"].max()\n",
    "maxLikes"
   ]
  },
  {
   "cell_type": "markdown",
   "metadata": {},
   "source": [
    "Zoals we in de scatter plot kunnen zien is dat het meeste onder de 100000 likes is.\n",
    "En het meeste onder de 3*1e8=300000000 (300m) dollar ligt.\n",
    "\n",
    "Ook zien we dat films met een hoge opbrengst niet persee meer likes heeft."
   ]
  },
  {
   "cell_type": "markdown",
   "metadata": {},
   "source": [
    "## Maken de acteurs de film meer populair/goed\n",
    "Meestal zal je bedenken dat wanneer je een bekende acteur(s) inzet in een film deze film ook bekender is en een betere IMDB score krijgt.\n",
    "Maar is dit ook zo?\n",
    "\n",
    "Eerst kijken we of de Facebook likes ook een corelatie heeft met de IMDB score."
   ]
  },
  {
   "cell_type": "code",
   "execution_count": 70,
   "metadata": {},
   "outputs": [
    {
     "data": {
      "image/png": "[encoded data removed]",
      "text/plain": [
       "<matplotlib.figure.Figure at 0x13375acacc0>"
      ]
     },
     "metadata": {},
     "output_type": "display_data"
    }
   ],
   "source": [
    "plt.scatter(movieData[\"imdb_score\"], movieData[\"total_likes\"])\n",
    "plt.ylabel(\"Aantal likes\")\n",
    "plt.xlabel(\"Imdb score\")\n",
    "plt.title(\"Gemiddelde likes per IMDB score\")\n",
    "plt.show()"
   ]
  },
  {
   "cell_type": "markdown",
   "metadata": {},
   "source": [
    "Zoals we in deze graph kunnen zien is dat hoe meer likes een film krijgt hoe hoger de IMDB score wordt.\n",
    "Echter zien we wanneer de score boven ongeveer 9 komt de Facebook likes snel naar bededen gaan."
   ]
  },
  {
   "cell_type": "code",
   "execution_count": 48,
   "metadata": {},
   "outputs": [],
   "source": [
    "tempMovieData = movieData.sort_values(by=\"total_likes\",ascending=False).head(n=25)\n",
    "titles = tempMovieData[\"movie_title\"]\n",
    "a = tempMovieData[\"movie_facebook_likes\"]\n",
    "b = tempMovieData[\"actor_1_facebook_likes\"]\n",
    "c = tempMovieData[\"actor_2_facebook_likes\"]\n",
    "d = tempMovieData[\"actor_3_facebook_likes\"]"
   ]
  },
  {
   "cell_type": "code",
   "execution_count": 49,
   "metadata": {},
   "outputs": [],
   "source": [
    "df =  pd.DataFrame({'title' : titles,'movie likes' : a, 'actor 1 likes' : b, 'actor 2 likes' : c, 'actor 3 likes' : d})\n",
    "df = df.set_index(\"title\")"
   ]
  },
  {
   "cell_type": "code",
   "execution_count": 50,
   "metadata": {},
   "outputs": [
    {
     "data": {
      "text/plain": [
       "<matplotlib.legend.Legend at 0x13376e2cc88>"
      ]
     },
     "execution_count": 50,
     "metadata": {},
     "output_type": "execute_result"
    },
    {
     "data": {
      "image/png": "[encoded data removed]",
      "text/plain": [
       "<matplotlib.figure.Figure at 0x133759586d8>"
      ]
     },
     "metadata": {},
     "output_type": "display_data"
    }
   ],
   "source": [
    "fig, ax = plt.subplots()\n",
    "\n",
    "df.plot.bar(stacked=True, ax=ax);\n",
    "ax.set_title(\"25 films met de meeste likes\")\n",
    "ax.legend(loc='upper right')"
   ]
  },
  {
   "cell_type": "markdown",
   "metadata": {},
   "source": [
    "Hier uit kunnen we opmerken dat de films met de totaal de meeste likes meestal door de film zelf komt. Echter in de top 5 komt het bij 4 door de hoofd acteur in de film."
   ]
  },
  {
   "cell_type": "code",
   "execution_count": 51,
   "metadata": {},
   "outputs": [],
   "source": [
    "dff =  pd.DataFrame({'title' : titles,'score' : tempMovieData[\"imdb_score\"]})\n",
    "dff = dff.set_index(\"title\")"
   ]
  },
  {
   "cell_type": "code",
   "execution_count": 52,
   "metadata": {},
   "outputs": [
    {
     "data": {
      "text/plain": [
       "<matplotlib.legend.Legend at 0x13376f8c5c0>"
      ]
     },
     "execution_count": 52,
     "metadata": {},
     "output_type": "execute_result"
    },
    {
     "data": {
      "image/png": "[encoded data removed]",
      "text/plain": [
       "<matplotlib.figure.Figure at 0x13376f8cb00>"
      ]
     },
     "metadata": {},
     "output_type": "display_data"
    }
   ],
   "source": [
    "fig, ax = plt.subplots()\n",
    "\n",
    "dff.plot.bar(stacked=True, ax=ax); \n",
    "ax.set_title(\"25 films met de meeste likes\")\n",
    "ax.legend(loc='upper right')"
   ]
  },
  {
   "cell_type": "markdown",
   "metadata": {},
   "source": [
    "Als we vervolgens de IMDB score van deze films bekijken zien we dat ze bijna allemaal boven de de 7 zijn.\n",
    "Dit is goed, maar hoe is dit in vergelijking met alle films"
   ]
  },
  {
   "cell_type": "code",
   "execution_count": 53,
   "metadata": {},
   "outputs": [],
   "source": [
    "movieData[\"like_ratio\"] =  ((movieData[\"total_likes\"] - movieData[\"movie_facebook_likes\"]) / movieData[\"total_likes\"]) * 100\n",
    "movieData[\"like_ratio\"] = np.round(movieData[\"like_ratio\"])\n",
    "movieData = movieData.dropna(subset=['like_ratio'])"
   ]
  },
  {
   "cell_type": "code",
   "execution_count": 54,
   "metadata": {},
   "outputs": [
    {
     "data": {
      "image/png": "[encoded data removed]",
      "text/plain": [
       "<matplotlib.figure.Figure at 0x13377052d30>"
      ]
     },
     "metadata": {},
     "output_type": "display_data"
    }
   ],
   "source": [
    "plt.scatter(movieData[\"like_ratio\"], movieData[\"imdb_score\"])\n",
    "plt.ylabel(\"IMDB score\")\n",
    "plt.xlabel(\"Percentage\")\n",
    "plt.title(\"Acteur likes van totaal aantal likes\")\n",
    "z = np.polyfit(movieData[\"like_ratio\"], movieData[\"imdb_score\"], 1)\n",
    "p = np.poly1d(z)\n",
    "plt.plot(movieData[\"like_ratio\"],p(movieData[\"like_ratio\"]),\"r--\")\n",
    "plt.show()"
   ]
  },
  {
   "cell_type": "markdown",
   "metadata": {},
   "source": [
    "Zoals we hier kunnen zien is de aantal films per percentage redelijk stabiel. Hieruit kunnen wij concluderen dat niet direct een acteur(s) een film meer likes geeft."
   ]
  },
  {
   "cell_type": "markdown",
   "metadata": {},
   "source": [
    "## Kunnen wij met supervised machine learning voorspellen wat de IMDB score en opbrengst  van een film zijn gebaseerd op de facebook likes van de staff?"
   ]
  },
  {
   "cell_type": "markdown",
   "metadata": {},
   "source": [
    "Voor we de techniek kiezen waarmee we dit gaan onderzoeken is het eerst belangrijk te weten of deze geschikt zijn. Hieronder kijken we eerst of er misschien iets van een linear verband is tussen de facebook populariteit van de cast van een film en de omzet/IMDB ervan."
   ]
  },
  {
   "cell_type": "code",
   "execution_count": 55,
   "metadata": {},
   "outputs": [],
   "source": [
    "imdbMergedArray['total_facebook_likes'] = imdbMergedArray['actor_3_facebook_likes'] + imdbMergedArray['actor_2_facebook_likes'] + imdbMergedArray['actor_1_facebook_likes']+ imdbMergedArray['director_facebook_likes']"
   ]
  },
  {
   "cell_type": "markdown",
   "metadata": {},
   "source": [
    "Eerst tellen we het totaal aantal likes van de crew van de films op. Om deze data makkelijker te kunnen gebruiken"
   ]
  },
  {
   "cell_type": "code",
   "execution_count": 56,
   "metadata": {},
   "outputs": [
    {
     "data": {
      "text/plain": [
       "<matplotlib.axes._subplots.AxesSubplot at 0x133770e0470>"
      ]
     },
     "execution_count": 56,
     "metadata": {},
     "output_type": "execute_result"
    },
    {
     "data": {
      "image/png": "[encoded data removed]",
      "text/plain": [
       "<matplotlib.figure.Figure at 0x13377075320>"
      ]
     },
     "metadata": {},
     "output_type": "display_data"
    }
   ],
   "source": [
    "plt.rcParams['figure.figsize'] = (9, 9)\n",
    "plt.rcParams['font.size'] = 14\n",
    "imdbMergedArray.plot(kind='scatter', x= 'gross', y='total_facebook_likes', alpha=0.2,title='Verdeling facebook likes en omzet van films')"
   ]
  },
  {
   "cell_type": "markdown",
   "metadata": {},
   "source": [
    "Dit blijkt niet het geval te zijn voor de omzet, nu controleren we of dit voor de IMDB score wel het geval is:"
   ]
  },
  {
   "cell_type": "code",
   "execution_count": 57,
   "metadata": {},
   "outputs": [
    {
     "data": {
      "text/plain": [
       "<matplotlib.axes._subplots.AxesSubplot at 0x133771390f0>"
      ]
     },
     "execution_count": 57,
     "metadata": {},
     "output_type": "execute_result"
    },
    {
     "data": {
      "image/png": "[encoded data removed]",
      "text/plain": [
       "<matplotlib.figure.Figure at 0x133770cee10>"
      ]
     },
     "metadata": {},
     "output_type": "display_data"
    }
   ],
   "source": [
    "plt.rcParams['figure.figsize'] = (9, 9)\n",
    "plt.rcParams['font.size'] = 14\n",
    "imdbMergedArray.plot(kind='scatter', x= 'imdb_score', y='total_facebook_likes', alpha=0.2,title ='Verdeling facebook likes en IMDB score van films' )"
   ]
  },
  {
   "cell_type": "markdown",
   "metadata": {},
   "source": [
    "Ook hiertussen is geen linear verband te vinden, omdat deze er niet is gaan we met knn klassificatie kijken of we aan de hand van de facebook likes van een film een voorspelling kunnen doen voor de omzet/IMDB score van de film. Om deze techniek toe te passen is het eerst handig om te weten of er grote uitschieters zijn die de techniek minder betrouwbaar maken."
   ]
  },
  {
   "cell_type": "code",
   "execution_count": 52,
   "metadata": {},
   "outputs": [
    {
     "data": {
      "image/png": "[encoded data removed]",
      "text/plain": [
       "<matplotlib.figure.Figure at 0x1aed4fedeb8>"
      ]
     },
     "metadata": {},
     "output_type": "display_data"
    }
   ],
   "source": [
    "plt.figure();\n",
    "plt.hist([imdbMergedArray['gross']],  label=['Omzet'])\n",
    "plt.legend(loc='upper right')\n",
    "plt.title('Frequentieverdeling omzet')\n",
    "plt.xlabel('Omzet films')\n",
    "plt.ylabel('Frequency')\n",
    "plt.show()\n"
   ]
  },
  {
   "cell_type": "markdown",
   "metadata": {},
   "source": [
    "Het valt op dat er wel degelijk een paar grote uitschieters zijn die de techniek minder betrouwbaar maken voor de omzet"
   ]
  },
  {
   "cell_type": "code",
   "execution_count": 53,
   "metadata": {},
   "outputs": [
    {
     "data": {
      "image/png": "[encoded data removed]",
      "text/plain": [
       "<matplotlib.figure.Figure at 0x1aed5162320>"
      ]
     },
     "metadata": {},
     "output_type": "display_data"
    }
   ],
   "source": [
    "plt.figure();\n",
    "plt.hist([imdbMergedArray['imdb_score']],  label=['Omzet'])\n",
    "plt.legend(loc='upper right')\n",
    "plt.title('Frequentieverdeling omzet')\n",
    "plt.xlabel('Omzet films')\n",
    "plt.ylabel('Frequency')\n",
    "plt.show()\n"
   ]
  },
  {
   "cell_type": "markdown",
   "metadata": {},
   "source": [
    "Ook de IMDB score heeft een aantal uitschieters, maar ziet er voor de rest redelijk normaal verdeeld uit. Nu we hier meer inzicht over hebben gaan we kijken met hoeveel zekerheid we kunnen zeggen wat een films omzet/IMDB score zal zijn aan de hand van het aantal Facebook likes. Dit gaan we doen met KNeighborsClassifier, hieronder maken we eerst een test en train set"
   ]
  },
  {
   "cell_type": "code",
   "execution_count": 54,
   "metadata": {},
   "outputs": [
    {
     "name": "stdout",
     "output_type": "stream",
     "text": [
      "Aantal trainwaarden 2888\n",
      "Aantal testwaarden 963\n"
     ]
    }
   ],
   "source": [
    "X=imdbMergedArray[['total_facebook_likes']]\n",
    "y= imdbMergedArray['gross']  \n",
    "\n",
    "# making train en test set\n",
    "X_train, X_test, y_train, y_test = train_test_split(X,y, random_state = 0)\n",
    "print('Aantal trainwaarden {0:d}'.format(len(X_train)))\n",
    "print('Aantal testwaarden {0:d}'.format(len(y_test)))"
   ]
  },
  {
   "cell_type": "markdown",
   "metadata": {},
   "source": [
    "Eerst gaan kijken of we voorspellingen over de omzet kunnen doen met deze techniek."
   ]
  },
  {
   "cell_type": "code",
   "execution_count": 55,
   "metadata": {},
   "outputs": [
    {
     "data": {
      "text/plain": [
       "'1.45379023884%'"
      ]
     },
     "execution_count": 55,
     "metadata": {},
     "output_type": "execute_result"
    }
   ],
   "source": [
    "# maak classifier object\n",
    "knn = KNeighborsClassifier(n_neighbors = 2)\n",
    "# train de classifier\n",
    "knn.fit(X_train,y_train)\n",
    "# laat de classifier de testset berekenen\n",
    "y_knn = knn.predict(X_test)\n",
    "# controleer de nauwkeurigheid met de test data\n",
    "str(knn.score(X_test,y_test)*100 )+ '%'"
   ]
  },
  {
   "cell_type": "markdown",
   "metadata": {},
   "source": [
    "Deze score is echter te laag om deze techniek in praktijk te kunnen toepassen. Wanneer je de heatmap van alle punten aan het begin terug ziet, zal je zien dat er ook weinig verband zit tussen de omzet en het aantal facebook likes. Als volgt gaan we dit voor de IMDB score ook bekijken.\n"
   ]
  },
  {
   "cell_type": "code",
   "execution_count": 56,
   "metadata": {},
   "outputs": [
    {
     "name": "stdout",
     "output_type": "stream",
     "text": [
      "Aantal trainwaarden 2888\n",
      "Aantal testwaarden 963\n"
     ]
    }
   ],
   "source": [
    "X=imdbMergedArray[['total_facebook_likes']]\n",
    "y= imdbMergedArray['imdb_score']  \n",
    "\n",
    "# making train en test set\n",
    "X_train, X_test, y_train, y_test = train_test_split(X,y, random_state = 0)\n",
    "print('Aantal trainwaarden {0:d}'.format(len(X_train)))\n",
    "print('Aantal testwaarden {0:d}'.format(len(y_test)))"
   ]
  },
  {
   "cell_type": "code",
   "execution_count": 57,
   "metadata": {},
   "outputs": [
    {
     "data": {
      "text/plain": [
       "'5.5036344756%'"
      ]
     },
     "execution_count": 57,
     "metadata": {},
     "output_type": "execute_result"
    }
   ],
   "source": [
    "# maak classifier object\n",
    "knn = KNeighborsClassifier(n_neighbors = 2)\n",
    "# train de classifier\n",
    "knn.fit(X_train,y_train)\n",
    "# laat de classifier de testset berekenen\n",
    "y_knn = knn.predict(X_test)\n",
    "# controleer de nauwkeurigheid met de test data\n",
    "str(knn.score(X_test,y_test)*100 )+ '%'"
   ]
  },
  {
   "cell_type": "markdown",
   "metadata": {},
   "source": [
    "Het valt op dat de voorspel score hier al een stuk hoger ligt dan bij de omzet van een film. Echter liggen beide percentages te laag om in de toekomst goede voorspellingen voor deze waardes te kunnen doen. Dit indiceert dat er weinig correlatie is tussen het aantal facebook likes van een film en de IMDB score/omzet ervan."
   ]
  },
  {
   "cell_type": "markdown",
   "metadata": {},
   "source": [
    "## Unsupervised Machine Learning"
   ]
  },
  {
   "cell_type": "markdown",
   "metadata": {},
   "source": [
    "Hier willen wij graag kijken of wij met unsupervised machine learning kunnen kijken of wij met de IMDB Score en de Revenue kunnen uitvinden of de film successvol is, of onsuccessvol.\n",
    "\n",
    "Eerst kijken wij even hoeveel meetwaarden wij hebben:"
   ]
  },
  {
   "cell_type": "code",
   "execution_count": 58,
   "metadata": {},
   "outputs": [
    {
     "name": "stdout",
     "output_type": "stream",
     "text": [
      "Aantal meetwaarden 3851\n"
     ]
    },
    {
     "data": {
      "text/html": [
       "<div>\n",
       "<style scoped>\n",
       "    .dataframe tbody tr th:only-of-type {\n",
       "        vertical-align: middle;\n",
       "    }\n",
       "\n",
       "    .dataframe tbody tr th {\n",
       "        vertical-align: top;\n",
       "    }\n",
       "\n",
       "    .dataframe thead th {\n",
       "        text-align: right;\n",
       "    }\n",
       "</style>\n",
       "<table border=\"1\" class=\"dataframe\">\n",
       "  <thead>\n",
       "    <tr style=\"text-align: right;\">\n",
       "      <th></th>\n",
       "      <th>movie_title</th>\n",
       "      <th>imdb_score</th>\n",
       "      <th>gross</th>\n",
       "    </tr>\n",
       "    <tr>\n",
       "      <th>index</th>\n",
       "      <th></th>\n",
       "      <th></th>\n",
       "      <th></th>\n",
       "    </tr>\n",
       "  </thead>\n",
       "  <tbody>\n",
       "    <tr>\n",
       "      <th>0</th>\n",
       "      <td>Avatar</td>\n",
       "      <td>79.0</td>\n",
       "      <td>760505847.0</td>\n",
       "    </tr>\n",
       "    <tr>\n",
       "      <th>1</th>\n",
       "      <td>Pirates of the Caribbean: At World's End</td>\n",
       "      <td>71.0</td>\n",
       "      <td>309404152.0</td>\n",
       "    </tr>\n",
       "    <tr>\n",
       "      <th>2</th>\n",
       "      <td>Spectre</td>\n",
       "      <td>68.0</td>\n",
       "      <td>200074175.0</td>\n",
       "    </tr>\n",
       "    <tr>\n",
       "      <th>3</th>\n",
       "      <td>The Dark Knight Rises</td>\n",
       "      <td>85.0</td>\n",
       "      <td>448130642.0</td>\n",
       "    </tr>\n",
       "    <tr>\n",
       "      <th>4</th>\n",
       "      <td>John Carter</td>\n",
       "      <td>66.0</td>\n",
       "      <td>73058679.0</td>\n",
       "    </tr>\n",
       "  </tbody>\n",
       "</table>\n",
       "</div>"
      ],
      "text/plain": [
       "                                     movie_title  imdb_score        gross\n",
       "index                                                                    \n",
       "0                                        Avatar         79.0  760505847.0\n",
       "1      Pirates of the Caribbean: At World's End         71.0  309404152.0\n",
       "2                                       Spectre         68.0  200074175.0\n",
       "3                         The Dark Knight Rises         85.0  448130642.0\n",
       "4                                   John Carter         66.0   73058679.0"
      ]
     },
     "execution_count": 58,
     "metadata": {},
     "output_type": "execute_result"
    }
   ],
   "source": [
    "arraysToKeepRevenue = ['movie_title', 'imdb_score', 'gross']\n",
    "imdbRevenue = imdbMergedArray[arraysToKeepRevenue]\n",
    "print('Aantal meetwaarden {0:d}'.format(len(imdbRevenue)))\n",
    "imdbRevenue.head()"
   ]
  },
  {
   "cell_type": "code",
   "execution_count": 59,
   "metadata": {},
   "outputs": [
    {
     "name": "stdout",
     "output_type": "stream",
     "text": [
      "Aantal trainwaarden 2888\n",
      "Aantal testwaarden 963\n"
     ]
    }
   ],
   "source": [
    "X=imdbRevenue[['imdb_score']]\n",
    "y=imdbRevenue['gross']\n",
    "\n",
    "X_train, X_test, y_train, y_test = train_test_split(X,y, random_state = 0)\n",
    "print('Aantal trainwaarden {0:d}'.format(len(X_train)))\n",
    "print('Aantal testwaarden {0:d}'.format(len(y_test)))"
   ]
  },
  {
   "cell_type": "markdown",
   "metadata": {},
   "source": [
    "### KNeighborsClassifier"
   ]
  },
  {
   "cell_type": "code",
   "execution_count": 60,
   "metadata": {},
   "outputs": [
    {
     "name": "stdout",
     "output_type": "stream",
     "text": [
      "0.21%\n"
     ]
    }
   ],
   "source": [
    "# maak classifier object\n",
    "knn = KNeighborsClassifier(n_neighbors = 2)\n",
    "# train de classifier\n",
    "knn.fit(X_train,y_train)\n",
    "# laat de classifier de testset berekenen\n",
    "y_knn = knn.predict(X_test)\n",
    "\n",
    "acc_knn = round(accuracy_score(y_test, y_knn) * 100, 2)\n",
    "print(str(acc_knn) + '%')"
   ]
  },
  {
   "cell_type": "markdown",
   "metadata": {},
   "source": [
    "### Gaussian"
   ]
  },
  {
   "cell_type": "code",
   "execution_count": 61,
   "metadata": {},
   "outputs": [
    {
     "name": "stdout",
     "output_type": "stream",
     "text": [
      "0.1%\n"
     ]
    }
   ],
   "source": [
    "gaussian = GaussianNB()\n",
    "gaussian.fit(X_train, y_train)\n",
    "y_gaussian = gaussian.predict(X_test)\n",
    "acc_gaussian = round(accuracy_score(y_test, y_gaussian) * 100, 2)\n",
    "print(str(acc_gaussian) + '%')"
   ]
  },
  {
   "cell_type": "markdown",
   "metadata": {},
   "source": [
    "Even een kort model om te zien hoe accuraat de predicties zijn:"
   ]
  },
  {
   "cell_type": "code",
   "execution_count": 62,
   "metadata": {},
   "outputs": [
    {
     "data": {
      "text/html": [
       "<div>\n",
       "<style scoped>\n",
       "    .dataframe tbody tr th:only-of-type {\n",
       "        vertical-align: middle;\n",
       "    }\n",
       "\n",
       "    .dataframe tbody tr th {\n",
       "        vertical-align: top;\n",
       "    }\n",
       "\n",
       "    .dataframe thead th {\n",
       "        text-align: right;\n",
       "    }\n",
       "</style>\n",
       "<table border=\"1\" class=\"dataframe\">\n",
       "  <thead>\n",
       "    <tr style=\"text-align: right;\">\n",
       "      <th></th>\n",
       "      <th>Model</th>\n",
       "      <th>Score</th>\n",
       "    </tr>\n",
       "  </thead>\n",
       "  <tbody>\n",
       "    <tr>\n",
       "      <th>0</th>\n",
       "      <td>KNN</td>\n",
       "      <td>0.21</td>\n",
       "    </tr>\n",
       "    <tr>\n",
       "      <th>1</th>\n",
       "      <td>Gaussian Naive Baise</td>\n",
       "      <td>0.10</td>\n",
       "    </tr>\n",
       "  </tbody>\n",
       "</table>\n",
       "</div>"
      ],
      "text/plain": [
       "                  Model  Score\n",
       "0                   KNN   0.21\n",
       "1  Gaussian Naive Baise   0.10"
      ]
     },
     "execution_count": 62,
     "metadata": {},
     "output_type": "execute_result"
    }
   ],
   "source": [
    "models = pd.DataFrame({\n",
    "    'Model': [ 'KNN', 'Gaussian Naive Baise'],\n",
    "    'Score': [ acc_knn, acc_gaussian]})\n",
    "\n",
    "models.sort_values(by='Score', ascending=False)"
   ]
  },
  {
   "cell_type": "markdown",
   "metadata": {},
   "source": [
    "Hieraan kunnen wij al snel zien dat er een zeer lage correlatie is tussen IMDB Score en gross revenue, dit betekent dat een film niet goed hoeft te zijn om veel te verdienen. Of dat een film zeer weinig kan verdienen terwijl het een zeer hoge IMDB Score heeft.\n",
    "\n",
    "Dit klopt met wat het eerdere analyse vertelde, wij kunnen dus waarschijnlijk zeggen dat Facebook likes en IMDB Scores niet veel vertellen over hoeveel de film verdient."
   ]
  }
 ],
 "metadata": {
  "kernelspec": {
   "display_name": "Python 3",
   "language": "python",
   "name": "python3"
  },
  "language_info": {
   "codemirror_mode": {
    "name": "ipython",
    "version": 3
   },
   "file_extension": ".py",
   "mimetype": "text/x-python",
   "name": "python",
   "nbconvert_exporter": "python",
   "pygments_lexer": "ipython3",
   "version": "3.6.4"
  }
 },
 "nbformat": 4,
 "nbformat_minor": 2
}
